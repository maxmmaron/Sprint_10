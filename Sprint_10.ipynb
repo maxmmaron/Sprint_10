{
 "cells": [
  {
   "cell_type": "markdown",
   "metadata": {},
   "source": [
    "<div style=\"border-radius: 15px; border: 3px solid indigo; padding: 15px;\">\n",
    "<b> Reviewer's comment</b>\n",
    "    \n",
    "Hi Max, I am a reviewer on this project. Congratulations on submitting another project! 🎉\n",
    "\n",
    "Before we start, I want to pay your attention to the color marking:\n",
    "    \n",
    "<div class=\"alert alert-success\" style=\"border-radius: 15px; box-shadow: 4px 4px 4px; border: 1px solid \">\n",
    "<b> Reviewer's comment</b>\n",
    "    \n",
    "Great solutions and ideas that can and should be used in the future are in green comments.   \n",
    "</div>    \n",
    "    \n",
    "    \n",
    "<div class=\"alert alert-warning\" style=\"border-radius: 15px; box-shadow: 4px 4px 4px; border: 1px solid \">\n",
    "<b> Reviewer's comment</b>\n",
    "\n",
    "Yellow color indicates what should be optimized. This is not necessary, but it will be great if you make changes to this project.\n",
    "</div>      \n",
    "    \n",
    "    \n",
    "<div class=\"alert alert-danger\" style=\"border-radius: 15px; box-shadow: 4px 4px 4px; border: 1px solid \">\n",
    "<b> Reviewer's comment </b>\n",
    "\n",
    "Issues that must be corrected to achieve accurate results are indicated in red comments. Please note that the project cannot be accepted until these issues are resolved.\n",
    "    \n",
    "</div>    \n",
    "\n",
    "<hr>\n",
    "    \n",
    "**Please, use some color other than those listed to highlight answers to my comments.**\n",
    "I would also ask you **not to change, move or delete my comments** to make it easier for me to navigate during the next review.\n",
    "    \n",
    "In addition, my comments are defined as headings. \n",
    "They can mess up the content; however, they are convenient, since you can immediately go to them. I will remove the headings from my comments in the next review if you ask me to. \n",
    "    \n",
    "    \n",
    "<hr>\n",
    "    \n",
    "<font color='dodgerblue'>**A few words about the project:**</font> you did a fantastic job here, thank you so much for submitting the project! The topic is hard, but your project is great! It has a clear structure, which enhances its readability. It also has a lot of charts and explanations, so the code is easy to read and the results are easy to understand. You have correctly conducted the analysis, answered all questions from the task and conducted statistical tests. I do not have any questions, so I can accept the project now. Good luck!\n",
    "    \n",
    "    \n",
    "\n",
    "\n",
    "</div>"
   ]
  },
  {
   "cell_type": "markdown",
   "metadata": {},
   "source": [
    "# A/B Testing Analysis "
   ]
  },
  {
   "cell_type": "markdown",
   "metadata": {},
   "source": [
    "I will analyze A/B testing data from an online store in three main parts:\n",
    "\n",
    "1. Evaluation of nine revenue-boosting hypotheses proposed by the marketing team to determine implementation priorities.\n",
    "\n",
    "2. Comparison of performance metrics between test groups, including cumulative revenue, average order size, and conversion rates.\n",
    "\n",
    "3. Statistical analysis comparing conversion rates and average order sizes between groups, using both complete and filtered datasets (excluding anomalies). Based on these findings, we'll provide recommendations for next steps."
   ]
  },
  {
   "cell_type": "markdown",
   "metadata": {},
   "source": [
    "<div class=\"alert alert-success\" style=\"border-radius: 15px; box-shadow: 4px 4px 4px; border: 1px solid \">\n",
    "<h2> Reviewer's comment</h2>\n",
    "    \n",
    "There's an introduction, which is good. It is important to write an introductory part, because it gives an idea about the content of the project.\n",
    "    \n",
    "</div>\n",
    "\n"
   ]
  },
  {
   "cell_type": "code",
   "execution_count": 1,
   "metadata": {},
   "outputs": [],
   "source": [
    "import pandas as pd\n",
    "import numpy as np\n",
    "import math\n",
    "from matplotlib import pyplot as plt\n",
    "from scipy import stats as st\n",
    "from IPython.display import display\n",
    "import seaborn as sns"
   ]
  },
  {
   "cell_type": "markdown",
   "metadata": {},
   "source": [
    "# Step 1: Hypothesis data importing and calculation\n",
    "In this section, I will:\n",
    "\n",
    "Import and check the data containing the 9 hypotheses;\n",
    "\n",
    "Apply the ICE framework to prioritize hypotheses; and\n",
    "\n",
    "Apply the RICE framework to prioritize hypotheses. "
   ]
  },
  {
   "cell_type": "code",
   "execution_count": 2,
   "metadata": {},
   "outputs": [],
   "source": [
    "hypothesis = pd.read_csv('/datasets/hypotheses_us.csv', sep=';')"
   ]
  },
  {
   "cell_type": "code",
   "execution_count": 3,
   "metadata": {},
   "outputs": [
    {
     "data": {
      "text/html": [
       "<div>\n",
       "<style scoped>\n",
       "    .dataframe tbody tr th:only-of-type {\n",
       "        vertical-align: middle;\n",
       "    }\n",
       "\n",
       "    .dataframe tbody tr th {\n",
       "        vertical-align: top;\n",
       "    }\n",
       "\n",
       "    .dataframe thead th {\n",
       "        text-align: right;\n",
       "    }\n",
       "</style>\n",
       "<table border=\"1\" class=\"dataframe\">\n",
       "  <thead>\n",
       "    <tr style=\"text-align: right;\">\n",
       "      <th></th>\n",
       "      <th>Hypothesis</th>\n",
       "      <th>Reach</th>\n",
       "      <th>Impact</th>\n",
       "      <th>Confidence</th>\n",
       "      <th>Effort</th>\n",
       "    </tr>\n",
       "  </thead>\n",
       "  <tbody>\n",
       "    <tr>\n",
       "      <th>0</th>\n",
       "      <td>Add two new channels for attracting traffic. T...</td>\n",
       "      <td>3</td>\n",
       "      <td>10</td>\n",
       "      <td>8</td>\n",
       "      <td>6</td>\n",
       "    </tr>\n",
       "    <tr>\n",
       "      <th>1</th>\n",
       "      <td>Launch your own delivery service. This will sh...</td>\n",
       "      <td>2</td>\n",
       "      <td>5</td>\n",
       "      <td>4</td>\n",
       "      <td>10</td>\n",
       "    </tr>\n",
       "    <tr>\n",
       "      <th>2</th>\n",
       "      <td>Add product recommendation blocks to the store...</td>\n",
       "      <td>8</td>\n",
       "      <td>3</td>\n",
       "      <td>7</td>\n",
       "      <td>3</td>\n",
       "    </tr>\n",
       "    <tr>\n",
       "      <th>3</th>\n",
       "      <td>Change the category structure. This will incre...</td>\n",
       "      <td>8</td>\n",
       "      <td>3</td>\n",
       "      <td>3</td>\n",
       "      <td>8</td>\n",
       "    </tr>\n",
       "    <tr>\n",
       "      <th>4</th>\n",
       "      <td>Change the background color on the main page. ...</td>\n",
       "      <td>3</td>\n",
       "      <td>1</td>\n",
       "      <td>1</td>\n",
       "      <td>1</td>\n",
       "    </tr>\n",
       "    <tr>\n",
       "      <th>5</th>\n",
       "      <td>Add a customer review page. This will increase...</td>\n",
       "      <td>3</td>\n",
       "      <td>2</td>\n",
       "      <td>2</td>\n",
       "      <td>3</td>\n",
       "    </tr>\n",
       "    <tr>\n",
       "      <th>6</th>\n",
       "      <td>Show banners with current offers and sales on ...</td>\n",
       "      <td>5</td>\n",
       "      <td>3</td>\n",
       "      <td>8</td>\n",
       "      <td>3</td>\n",
       "    </tr>\n",
       "    <tr>\n",
       "      <th>7</th>\n",
       "      <td>Add a subscription form to all the main pages....</td>\n",
       "      <td>10</td>\n",
       "      <td>7</td>\n",
       "      <td>8</td>\n",
       "      <td>5</td>\n",
       "    </tr>\n",
       "    <tr>\n",
       "      <th>8</th>\n",
       "      <td>Launch a promotion that gives users discounts ...</td>\n",
       "      <td>1</td>\n",
       "      <td>9</td>\n",
       "      <td>9</td>\n",
       "      <td>5</td>\n",
       "    </tr>\n",
       "  </tbody>\n",
       "</table>\n",
       "</div>"
      ],
      "text/plain": [
       "                                          Hypothesis  Reach  Impact  \\\n",
       "0  Add two new channels for attracting traffic. T...      3      10   \n",
       "1  Launch your own delivery service. This will sh...      2       5   \n",
       "2  Add product recommendation blocks to the store...      8       3   \n",
       "3  Change the category structure. This will incre...      8       3   \n",
       "4  Change the background color on the main page. ...      3       1   \n",
       "5  Add a customer review page. This will increase...      3       2   \n",
       "6  Show banners with current offers and sales on ...      5       3   \n",
       "7  Add a subscription form to all the main pages....     10       7   \n",
       "8  Launch a promotion that gives users discounts ...      1       9   \n",
       "\n",
       "   Confidence  Effort  \n",
       "0           8       6  \n",
       "1           4      10  \n",
       "2           7       3  \n",
       "3           3       8  \n",
       "4           1       1  \n",
       "5           2       3  \n",
       "6           8       3  \n",
       "7           8       5  \n",
       "8           9       5  "
      ]
     },
     "execution_count": 3,
     "metadata": {},
     "output_type": "execute_result"
    }
   ],
   "source": [
    "hypothesis"
   ]
  },
  {
   "cell_type": "markdown",
   "metadata": {},
   "source": [
    "<div class=\"alert alert-warning\" style=\"border-radius: 15px; box-shadow: 4px 4px 4px; border: 1px solid \">\n",
    "<h2> Reviewer's comment</h2>\n",
    "    \n",
    "In order to change the *hypothesis* column's width, use `set_option` method: \n",
    "\n",
    "</div>\n",
    "\n",
    "```pyhton\n",
    "\n",
    "pd.set_option('max_colwidth', 100)\n",
    "\n",
    "```"
   ]
  },
  {
   "cell_type": "code",
   "execution_count": 4,
   "metadata": {},
   "outputs": [],
   "source": [
    "hypothesis.columns=hypothesis.columns.str.lower()"
   ]
  },
  {
   "cell_type": "code",
   "execution_count": 5,
   "metadata": {},
   "outputs": [],
   "source": [
    "hypothesis['ICE'] = (hypothesis['impact'] * hypothesis['confidence'])/hypothesis['effort']"
   ]
  },
  {
   "cell_type": "markdown",
   "metadata": {},
   "source": [
    "<div class=\"alert alert-success\" style=\"border-radius: 15px; box-shadow: 4px 4px 4px; border: 1px solid \">\n",
    "<h2> Reviewer's comment  </h2>\n",
    "    \n",
    "Correct! \n",
    "</div>"
   ]
  },
  {
   "cell_type": "code",
   "execution_count": 6,
   "metadata": {},
   "outputs": [
    {
     "data": {
      "text/html": [
       "<div>\n",
       "<style scoped>\n",
       "    .dataframe tbody tr th:only-of-type {\n",
       "        vertical-align: middle;\n",
       "    }\n",
       "\n",
       "    .dataframe tbody tr th {\n",
       "        vertical-align: top;\n",
       "    }\n",
       "\n",
       "    .dataframe thead th {\n",
       "        text-align: right;\n",
       "    }\n",
       "</style>\n",
       "<table border=\"1\" class=\"dataframe\">\n",
       "  <thead>\n",
       "    <tr style=\"text-align: right;\">\n",
       "      <th></th>\n",
       "      <th>hypothesis</th>\n",
       "      <th>ICE</th>\n",
       "    </tr>\n",
       "  </thead>\n",
       "  <tbody>\n",
       "    <tr>\n",
       "      <th>8</th>\n",
       "      <td>Launch a promotion that gives users discounts ...</td>\n",
       "      <td>16.200000</td>\n",
       "    </tr>\n",
       "    <tr>\n",
       "      <th>0</th>\n",
       "      <td>Add two new channels for attracting traffic. T...</td>\n",
       "      <td>13.333333</td>\n",
       "    </tr>\n",
       "    <tr>\n",
       "      <th>7</th>\n",
       "      <td>Add a subscription form to all the main pages....</td>\n",
       "      <td>11.200000</td>\n",
       "    </tr>\n",
       "    <tr>\n",
       "      <th>6</th>\n",
       "      <td>Show banners with current offers and sales on ...</td>\n",
       "      <td>8.000000</td>\n",
       "    </tr>\n",
       "    <tr>\n",
       "      <th>2</th>\n",
       "      <td>Add product recommendation blocks to the store...</td>\n",
       "      <td>7.000000</td>\n",
       "    </tr>\n",
       "    <tr>\n",
       "      <th>1</th>\n",
       "      <td>Launch your own delivery service. This will sh...</td>\n",
       "      <td>2.000000</td>\n",
       "    </tr>\n",
       "    <tr>\n",
       "      <th>5</th>\n",
       "      <td>Add a customer review page. This will increase...</td>\n",
       "      <td>1.333333</td>\n",
       "    </tr>\n",
       "    <tr>\n",
       "      <th>3</th>\n",
       "      <td>Change the category structure. This will incre...</td>\n",
       "      <td>1.125000</td>\n",
       "    </tr>\n",
       "    <tr>\n",
       "      <th>4</th>\n",
       "      <td>Change the background color on the main page. ...</td>\n",
       "      <td>1.000000</td>\n",
       "    </tr>\n",
       "  </tbody>\n",
       "</table>\n",
       "</div>"
      ],
      "text/plain": [
       "                                          hypothesis        ICE\n",
       "8  Launch a promotion that gives users discounts ...  16.200000\n",
       "0  Add two new channels for attracting traffic. T...  13.333333\n",
       "7  Add a subscription form to all the main pages....  11.200000\n",
       "6  Show banners with current offers and sales on ...   8.000000\n",
       "2  Add product recommendation blocks to the store...   7.000000\n",
       "1  Launch your own delivery service. This will sh...   2.000000\n",
       "5  Add a customer review page. This will increase...   1.333333\n",
       "3  Change the category structure. This will incre...   1.125000\n",
       "4  Change the background color on the main page. ...   1.000000"
      ]
     },
     "execution_count": 6,
     "metadata": {},
     "output_type": "execute_result"
    }
   ],
   "source": [
    "hypothesis[['hypothesis', 'ICE']].sort_values(by='ICE', ascending=False)"
   ]
  },
  {
   "cell_type": "markdown",
   "metadata": {},
   "source": [
    "The top 5 hypotheses with the highest ICE scores are numbers 8, 0, 7, 6, and 2.\n",
    "\n",
    "Now to include 'reach' and calculate the RICE scores."
   ]
  },
  {
   "cell_type": "code",
   "execution_count": 7,
   "metadata": {},
   "outputs": [],
   "source": [
    "hypothesis['RICE'] = (hypothesis['reach'] * hypothesis['impact'] *\n",
    "                     hypothesis['confidence'])/hypothesis['effort']"
   ]
  },
  {
   "cell_type": "markdown",
   "metadata": {},
   "source": [
    "<div class=\"alert alert-success\" style=\"border-radius: 15px; box-shadow: 4px 4px 4px; border: 1px solid \">\n",
    "<h2> Reviewer's comment  </h2>\n",
    "    \n",
    "Correct! \n",
    "</div>"
   ]
  },
  {
   "cell_type": "code",
   "execution_count": 8,
   "metadata": {},
   "outputs": [
    {
     "data": {
      "text/html": [
       "<div>\n",
       "<style scoped>\n",
       "    .dataframe tbody tr th:only-of-type {\n",
       "        vertical-align: middle;\n",
       "    }\n",
       "\n",
       "    .dataframe tbody tr th {\n",
       "        vertical-align: top;\n",
       "    }\n",
       "\n",
       "    .dataframe thead th {\n",
       "        text-align: right;\n",
       "    }\n",
       "</style>\n",
       "<table border=\"1\" class=\"dataframe\">\n",
       "  <thead>\n",
       "    <tr style=\"text-align: right;\">\n",
       "      <th></th>\n",
       "      <th>hypothesis</th>\n",
       "      <th>RICE</th>\n",
       "    </tr>\n",
       "  </thead>\n",
       "  <tbody>\n",
       "    <tr>\n",
       "      <th>7</th>\n",
       "      <td>Add a subscription form to all the main pages....</td>\n",
       "      <td>112.0</td>\n",
       "    </tr>\n",
       "    <tr>\n",
       "      <th>2</th>\n",
       "      <td>Add product recommendation blocks to the store...</td>\n",
       "      <td>56.0</td>\n",
       "    </tr>\n",
       "    <tr>\n",
       "      <th>0</th>\n",
       "      <td>Add two new channels for attracting traffic. T...</td>\n",
       "      <td>40.0</td>\n",
       "    </tr>\n",
       "    <tr>\n",
       "      <th>6</th>\n",
       "      <td>Show banners with current offers and sales on ...</td>\n",
       "      <td>40.0</td>\n",
       "    </tr>\n",
       "    <tr>\n",
       "      <th>8</th>\n",
       "      <td>Launch a promotion that gives users discounts ...</td>\n",
       "      <td>16.2</td>\n",
       "    </tr>\n",
       "    <tr>\n",
       "      <th>3</th>\n",
       "      <td>Change the category structure. This will incre...</td>\n",
       "      <td>9.0</td>\n",
       "    </tr>\n",
       "    <tr>\n",
       "      <th>1</th>\n",
       "      <td>Launch your own delivery service. This will sh...</td>\n",
       "      <td>4.0</td>\n",
       "    </tr>\n",
       "    <tr>\n",
       "      <th>5</th>\n",
       "      <td>Add a customer review page. This will increase...</td>\n",
       "      <td>4.0</td>\n",
       "    </tr>\n",
       "    <tr>\n",
       "      <th>4</th>\n",
       "      <td>Change the background color on the main page. ...</td>\n",
       "      <td>3.0</td>\n",
       "    </tr>\n",
       "  </tbody>\n",
       "</table>\n",
       "</div>"
      ],
      "text/plain": [
       "                                          hypothesis   RICE\n",
       "7  Add a subscription form to all the main pages....  112.0\n",
       "2  Add product recommendation blocks to the store...   56.0\n",
       "0  Add two new channels for attracting traffic. T...   40.0\n",
       "6  Show banners with current offers and sales on ...   40.0\n",
       "8  Launch a promotion that gives users discounts ...   16.2\n",
       "3  Change the category structure. This will incre...    9.0\n",
       "1  Launch your own delivery service. This will sh...    4.0\n",
       "5  Add a customer review page. This will increase...    4.0\n",
       "4  Change the background color on the main page. ...    3.0"
      ]
     },
     "execution_count": 8,
     "metadata": {},
     "output_type": "execute_result"
    }
   ],
   "source": [
    "hypothesis[['hypothesis', 'RICE']].sort_values(by='RICE', ascending=False)"
   ]
  },
  {
   "cell_type": "markdown",
   "metadata": {},
   "source": [
    "Judging from the RICE scores, the 5 most promising hypotheses are no. 7, 2, 0, 6, and 8. These are the same five as from the ICE calculation but in different order. This is because if Reach is low, a hypothesis would be ranked higher in ICE but lower in RICE.\n",
    "If Reach is high, a hypothesis might be ranked higher in RICE than ICE.\n",
    "The same top 5 hypotheses may appear in both rankings, but their order shifts based on how Reach influences their priority in RICE.\n",
    "\n",
    "Now let's also make a scatterplot with the x asix showing the ICE score and y axis showing the RICE score."
   ]
  },
  {
   "cell_type": "code",
   "execution_count": 9,
   "metadata": {},
   "outputs": [
    {
     "data": {
      "image/png": "[encoded data removed]",
      "text/plain": [
       "<Figure size 700x500 with 1 Axes>"
      ]
     },
     "metadata": {},
     "output_type": "display_data"
    }
   ],
   "source": [
    "x = hypothesis['ICE']\n",
    "y = hypothesis['RICE']\n",
    "types = hypothesis.index  \n",
    "\n",
    "fig, ax = plt.subplots(figsize=(7, 5))\n",
    "\n",
    "ax.scatter(x, y, color='red', alpha=0.7, edgecolors='black')\n",
    "\n",
    "ax.set_xlabel('ICE Score', fontsize=12)\n",
    "ax.set_ylabel('RICE Score', fontsize=12)\n",
    "ax.set_title('Hypothesis ICE and RICE Scores', fontsize=14)\n",
    "\n",
    "for i, txt in enumerate(types):\n",
    "    ax.annotate(txt, (x[i], y[i]), xytext=(10, 2), textcoords='offset points', fontsize=10)\n",
    "\n",
    "plt.show()\n"
   ]
  },
  {
   "cell_type": "markdown",
   "metadata": {},
   "source": [
    "The scatterplot visualization shows that hypotheses positioned toward the top and right are the most promising. The analysis reveals key differences between RICE and ICE scoring methods:\n",
    "\n",
    "Hypothesis 7 (adding a subscription form to main pages) ranked highest using RICE due to its maximum reach score of 10, as it impacts all users. Conversely, Hypothesis 8 dropped from 1st place in ICE to 5th in RICE because of its minimal reach score of 1, since it only affects users during their birthday period.\n",
    "\n",
    "While the prioritization method choice affects rankings, both approaches identified the same top five hypotheses for testing, making any of these viable candidates for implementation."
   ]
  },
  {
   "cell_type": "markdown",
   "metadata": {},
   "source": [
    "\n",
    "<div class=\"alert alert-success\" style=\"border-radius: 15px; box-shadow: 4px 4px 4px; border: 1px solid \">\n",
    "<h2> Reviewer's comment </h2>\n",
    "    \n",
    "Correct. With RICE being used, we consider an additional factor that reflects the number of people or events. That is the reason why RICE prioritization differs from that of the ICE. \n",
    "</div>"
   ]
  },
  {
   "cell_type": "markdown",
   "metadata": {},
   "source": [
    "# Part 1 summary: \n",
    "In this section, I imported the data containing the 9 hypotheses and calcuated their ICE and RICE scores. Based on the results, the company can decide which hypotheses to test and which to test first.\n",
    "\n",
    "For this project, it hasn't been noted which specific hypothesis is being tested using the A/B test. However, based on the tasks, we can speculate that it is possibly hypothesis 2, which says adding recommendation blocks to the site will boost both conversion rate and average purchase size.\n",
    "\n",
    "In the next section, I will work with the results of the A/B test."
   ]
  },
  {
   "cell_type": "markdown",
   "metadata": {},
   "source": [
    "\n",
    "<div class=\"alert alert-success\" style=\"border-radius: 15px; box-shadow: 4px 4px 4px; border: 1px solid \">\n",
    "<h2> Reviewer's comment </h2>\n",
    "    \n",
    "Good! \n",
    "\n",
    "</div>"
   ]
  },
  {
   "cell_type": "markdown",
   "metadata": {},
   "source": [
    "# Part 2: Visitors and orders data importing and preprocessing"
   ]
  },
  {
   "cell_type": "code",
   "execution_count": 10,
   "metadata": {},
   "outputs": [],
   "source": [
    "orders = pd.read_csv('/datasets/orders_us.csv', parse_dates=['date'])"
   ]
  },
  {
   "cell_type": "code",
   "execution_count": 11,
   "metadata": {},
   "outputs": [
    {
     "data": {
      "text/html": [
       "<div>\n",
       "<style scoped>\n",
       "    .dataframe tbody tr th:only-of-type {\n",
       "        vertical-align: middle;\n",
       "    }\n",
       "\n",
       "    .dataframe tbody tr th {\n",
       "        vertical-align: top;\n",
       "    }\n",
       "\n",
       "    .dataframe thead th {\n",
       "        text-align: right;\n",
       "    }\n",
       "</style>\n",
       "<table border=\"1\" class=\"dataframe\">\n",
       "  <thead>\n",
       "    <tr style=\"text-align: right;\">\n",
       "      <th></th>\n",
       "      <th>transactionId</th>\n",
       "      <th>visitorId</th>\n",
       "      <th>date</th>\n",
       "      <th>revenue</th>\n",
       "      <th>group</th>\n",
       "    </tr>\n",
       "  </thead>\n",
       "  <tbody>\n",
       "    <tr>\n",
       "      <th>0</th>\n",
       "      <td>3667963787</td>\n",
       "      <td>3312258926</td>\n",
       "      <td>2019-08-15</td>\n",
       "      <td>30.4</td>\n",
       "      <td>B</td>\n",
       "    </tr>\n",
       "    <tr>\n",
       "      <th>1</th>\n",
       "      <td>2804400009</td>\n",
       "      <td>3642806036</td>\n",
       "      <td>2019-08-15</td>\n",
       "      <td>15.2</td>\n",
       "      <td>B</td>\n",
       "    </tr>\n",
       "    <tr>\n",
       "      <th>2</th>\n",
       "      <td>2961555356</td>\n",
       "      <td>4069496402</td>\n",
       "      <td>2019-08-15</td>\n",
       "      <td>10.2</td>\n",
       "      <td>A</td>\n",
       "    </tr>\n",
       "    <tr>\n",
       "      <th>3</th>\n",
       "      <td>3797467345</td>\n",
       "      <td>1196621759</td>\n",
       "      <td>2019-08-15</td>\n",
       "      <td>155.1</td>\n",
       "      <td>B</td>\n",
       "    </tr>\n",
       "    <tr>\n",
       "      <th>4</th>\n",
       "      <td>2282983706</td>\n",
       "      <td>2322279887</td>\n",
       "      <td>2019-08-15</td>\n",
       "      <td>40.5</td>\n",
       "      <td>B</td>\n",
       "    </tr>\n",
       "  </tbody>\n",
       "</table>\n",
       "</div>"
      ],
      "text/plain": [
       "   transactionId   visitorId       date  revenue group\n",
       "0     3667963787  3312258926 2019-08-15     30.4     B\n",
       "1     2804400009  3642806036 2019-08-15     15.2     B\n",
       "2     2961555356  4069496402 2019-08-15     10.2     A\n",
       "3     3797467345  1196621759 2019-08-15    155.1     B\n",
       "4     2282983706  2322279887 2019-08-15     40.5     B"
      ]
     },
     "execution_count": 11,
     "metadata": {},
     "output_type": "execute_result"
    }
   ],
   "source": [
    "orders.head()"
   ]
  },
  {
   "cell_type": "code",
   "execution_count": 12,
   "metadata": {},
   "outputs": [
    {
     "data": {
      "text/plain": [
       "0"
      ]
     },
     "execution_count": 12,
     "metadata": {},
     "output_type": "execute_result"
    }
   ],
   "source": [
    "orders.duplicated().sum()"
   ]
  },
  {
   "cell_type": "markdown",
   "metadata": {},
   "source": [
    "<div class=\"alert alert-success\" style=\"border-radius: 15px; box-shadow: 4px 4px 4px; border: 1px solid \">\n",
    "<h2> Reviewer's comment </h2>\n",
    "    \n",
    "Duplicates can impair the quality of the analysis, so it is an important step. Good job.\n",
    "\n",
    "\n",
    "</div>"
   ]
  },
  {
   "cell_type": "code",
   "execution_count": 13,
   "metadata": {},
   "outputs": [
    {
     "data": {
      "text/plain": [
       "transactionId    0\n",
       "visitorId        0\n",
       "date             0\n",
       "revenue          0\n",
       "group            0\n",
       "dtype: int64"
      ]
     },
     "execution_count": 13,
     "metadata": {},
     "output_type": "execute_result"
    }
   ],
   "source": [
    "orders.isna().sum()"
   ]
  },
  {
   "cell_type": "code",
   "execution_count": 14,
   "metadata": {},
   "outputs": [
    {
     "data": {
      "text/plain": [
       "Timestamp('2019-08-01 00:00:00')"
      ]
     },
     "metadata": {},
     "output_type": "display_data"
    },
    {
     "data": {
      "text/plain": [
       "Timestamp('2019-08-31 00:00:00')"
      ]
     },
     "metadata": {},
     "output_type": "display_data"
    }
   ],
   "source": [
    "display(orders['date'].min(), orders['date'].max())"
   ]
  },
  {
   "cell_type": "code",
   "execution_count": 15,
   "metadata": {},
   "outputs": [
    {
     "data": {
      "text/plain": [
       "count     1197.000000\n",
       "mean       131.491646\n",
       "std        603.004729\n",
       "min          5.000000\n",
       "25%         20.800000\n",
       "50%         50.200000\n",
       "75%        130.400000\n",
       "max      19920.400000\n",
       "Name: revenue, dtype: float64"
      ]
     },
     "execution_count": 15,
     "metadata": {},
     "output_type": "execute_result"
    }
   ],
   "source": [
    "orders['revenue'].describe()"
   ]
  },
  {
   "cell_type": "code",
   "execution_count": 16,
   "metadata": {},
   "outputs": [],
   "source": [
    "visits = pd.read_csv('/datasets/visits_us.csv', parse_dates=['date'])"
   ]
  },
  {
   "cell_type": "code",
   "execution_count": 17,
   "metadata": {},
   "outputs": [
    {
     "data": {
      "text/html": [
       "<div>\n",
       "<style scoped>\n",
       "    .dataframe tbody tr th:only-of-type {\n",
       "        vertical-align: middle;\n",
       "    }\n",
       "\n",
       "    .dataframe tbody tr th {\n",
       "        vertical-align: top;\n",
       "    }\n",
       "\n",
       "    .dataframe thead th {\n",
       "        text-align: right;\n",
       "    }\n",
       "</style>\n",
       "<table border=\"1\" class=\"dataframe\">\n",
       "  <thead>\n",
       "    <tr style=\"text-align: right;\">\n",
       "      <th></th>\n",
       "      <th>date</th>\n",
       "      <th>group</th>\n",
       "      <th>visits</th>\n",
       "    </tr>\n",
       "  </thead>\n",
       "  <tbody>\n",
       "    <tr>\n",
       "      <th>0</th>\n",
       "      <td>2019-08-01</td>\n",
       "      <td>A</td>\n",
       "      <td>719</td>\n",
       "    </tr>\n",
       "    <tr>\n",
       "      <th>1</th>\n",
       "      <td>2019-08-02</td>\n",
       "      <td>A</td>\n",
       "      <td>619</td>\n",
       "    </tr>\n",
       "    <tr>\n",
       "      <th>2</th>\n",
       "      <td>2019-08-03</td>\n",
       "      <td>A</td>\n",
       "      <td>507</td>\n",
       "    </tr>\n",
       "    <tr>\n",
       "      <th>3</th>\n",
       "      <td>2019-08-04</td>\n",
       "      <td>A</td>\n",
       "      <td>717</td>\n",
       "    </tr>\n",
       "    <tr>\n",
       "      <th>4</th>\n",
       "      <td>2019-08-05</td>\n",
       "      <td>A</td>\n",
       "      <td>756</td>\n",
       "    </tr>\n",
       "  </tbody>\n",
       "</table>\n",
       "</div>"
      ],
      "text/plain": [
       "        date group  visits\n",
       "0 2019-08-01     A     719\n",
       "1 2019-08-02     A     619\n",
       "2 2019-08-03     A     507\n",
       "3 2019-08-04     A     717\n",
       "4 2019-08-05     A     756"
      ]
     },
     "execution_count": 17,
     "metadata": {},
     "output_type": "execute_result"
    }
   ],
   "source": [
    "visits.head()"
   ]
  },
  {
   "cell_type": "code",
   "execution_count": 18,
   "metadata": {},
   "outputs": [
    {
     "data": {
      "text/plain": [
       "0"
      ]
     },
     "execution_count": 18,
     "metadata": {},
     "output_type": "execute_result"
    }
   ],
   "source": [
    "visits.duplicated().sum()"
   ]
  },
  {
   "cell_type": "code",
   "execution_count": 19,
   "metadata": {},
   "outputs": [
    {
     "data": {
      "text/plain": [
       "date      0\n",
       "group     0\n",
       "visits    0\n",
       "dtype: int64"
      ]
     },
     "execution_count": 19,
     "metadata": {},
     "output_type": "execute_result"
    }
   ],
   "source": [
    "visits.isna().sum()"
   ]
  },
  {
   "cell_type": "code",
   "execution_count": 20,
   "metadata": {},
   "outputs": [
    {
     "data": {
      "text/plain": [
       "Timestamp('2019-08-01 00:00:00')"
      ]
     },
     "metadata": {},
     "output_type": "display_data"
    },
    {
     "data": {
      "text/plain": [
       "Timestamp('2019-08-31 00:00:00')"
      ]
     },
     "metadata": {},
     "output_type": "display_data"
    }
   ],
   "source": [
    "display(visits['date'].min(), visits['date'].max())"
   ]
  },
  {
   "cell_type": "markdown",
   "metadata": {},
   "source": [
    "<div class=\"alert alert-success\" style=\"border-radius: 15px; box-shadow: 4px 4px 4px; border: 1px solid \">\n",
    "<h2> Reviewer's comment </h2>\n",
    "    \n",
    "Correct. It is quite useful to check the date values. \n",
    "\n",
    "</div>\n",
    "<div class=\"alert alert-warning\" style=\"border-radius: 15px; box-shadow: 4px 4px 4px; border: 1px solid \">\n",
    "<h2> Reviewer's comment </h2>\n",
    "    \n",
    "It will be great if you add a conclusion. \n",
    "    \n",
    "</div>"
   ]
  },
  {
   "cell_type": "code",
   "execution_count": 21,
   "metadata": {},
   "outputs": [
    {
     "data": {
      "text/plain": [
       "count     62.000000\n",
       "mean     607.290323\n",
       "std      114.400560\n",
       "min      361.000000\n",
       "25%      534.000000\n",
       "50%      624.500000\n",
       "75%      710.500000\n",
       "max      770.000000\n",
       "Name: visits, dtype: float64"
      ]
     },
     "execution_count": 21,
     "metadata": {},
     "output_type": "execute_result"
    }
   ],
   "source": [
    "visits['visits'].describe()"
   ]
  },
  {
   "cell_type": "markdown",
   "metadata": {},
   "source": []
  },
  {
   "cell_type": "code",
   "execution_count": 22,
   "metadata": {},
   "outputs": [
    {
     "data": {
      "text/plain": [
       "B    640\n",
       "A    557\n",
       "Name: group, dtype: int64"
      ]
     },
     "execution_count": 22,
     "metadata": {},
     "output_type": "execute_result"
    }
   ],
   "source": [
    "#How big is each group.\n",
    "orders['group'].value_counts()"
   ]
  },
  {
   "cell_type": "code",
   "execution_count": 23,
   "metadata": {},
   "outputs": [
    {
     "name": "stdout",
     "output_type": "stream",
     "text": [
      "Number of unique users in the data: 1031 \n",
      "Number of unique users in group A: 503 \n",
      "Number of unique users in group B: 586\n"
     ]
    }
   ],
   "source": [
    "print('Number of unique users in the data:', orders['visitorId'].nunique(),\n",
    "      '\\nNumber of unique users in group A:',\n",
    "      orders[orders['group'] == 'A']['visitorId'].nunique(),\n",
    "      '\\nNumber of unique users in group B:',\n",
    "      orders[orders['group'] == 'B']['visitorId'].nunique())"
   ]
  },
  {
   "cell_type": "markdown",
   "metadata": {},
   "source": [
    "Although we saw above that group A has 557 transaction reports and group B has 640, we can see below that the the number of unique visitorId are 503 in group A and group B 586. This means that there are users who show in both groups"
   ]
  },
  {
   "cell_type": "code",
   "execution_count": 24,
   "metadata": {},
   "outputs": [
    {
     "data": {
      "text/plain": [
       "58"
      ]
     },
     "execution_count": 24,
     "metadata": {},
     "output_type": "execute_result"
    }
   ],
   "source": [
    "usersA = orders[orders['group'] =='A']['visitorId'].unique()\n",
    "usersB = orders[orders['group'] =='B']['visitorId'].unique()\n",
    "usersAB = np.intersect1d(usersA, usersB)\n",
    "len(usersAB)"
   ]
  },
  {
   "cell_type": "code",
   "execution_count": 25,
   "metadata": {},
   "outputs": [
    {
     "data": {
      "text/plain": [
       "181"
      ]
     },
     "execution_count": 25,
     "metadata": {},
     "output_type": "execute_result"
    }
   ],
   "source": [
    "len(orders[orders['visitorId'].isin(usersAB)])"
   ]
  },
  {
   "cell_type": "markdown",
   "metadata": {},
   "source": [
    "A data quality issue was identified where 58 users appeared in both test groups A and B, accounting for 181 transactions (approximately 15% of the total 1,197 orders). This overlap likely resulted from either an error in traffic distribution or data entry, and should be considered when interpreting the results.\n",
    "\n",
    "Although removing these transactions means losing 15% of our data, it's necessary to eliminate this contaminated data to ensure accurate conclusions. We will proceed with the analysis using the cleaned dataset."
   ]
  },
  {
   "cell_type": "markdown",
   "metadata": {},
   "source": [
    "<div class=\"alert alert-success\" style=\"border-radius: 15px; box-shadow: 4px 4px 4px; border: 1px solid \">\n",
    "<h2> Reviewer's comment </h2>\n",
    "    \n",
    "Good. \n",
    "    \n",
    "</div>"
   ]
  },
  {
   "cell_type": "code",
   "execution_count": 26,
   "metadata": {},
   "outputs": [
    {
     "data": {
      "text/plain": [
       "(1016, 5)"
      ]
     },
     "execution_count": 26,
     "metadata": {},
     "output_type": "execute_result"
    }
   ],
   "source": [
    "orders = orders[~orders['visitorId'].isin(usersAB)]\n",
    "orders.shape"
   ]
  },
  {
   "cell_type": "code",
   "execution_count": 27,
   "metadata": {},
   "outputs": [
    {
     "data": {
      "text/plain": [
       "B    548\n",
       "A    468\n",
       "Name: group, dtype: int64"
      ]
     },
     "execution_count": 27,
     "metadata": {},
     "output_type": "execute_result"
    }
   ],
   "source": [
    "orders['group'].value_counts()"
   ]
  },
  {
   "cell_type": "markdown",
   "metadata": {},
   "source": [
    "# Part 2 summary \n",
    "After data cleaning by removing users who appeared in both test groups, our final dataset contains 468 orders from Group A and 548 from Group B (a reduction of 181 records). The data is now ready for analysis, though we should note potential outliers in the revenue column that may need attention in our subsequent analysis."
   ]
  },
  {
   "cell_type": "markdown",
   "metadata": {},
   "source": [
    "<div class=\"alert alert-success\" style=\"border-radius: 15px; box-shadow: 4px 4px 4px; border: 1px solid \">\n",
    "<h2> Reviewer's comment </h2>\n",
    "    \n",
    "Well done!     \n",
    "</div>"
   ]
  },
  {
   "cell_type": "markdown",
   "metadata": {},
   "source": [
    "# Part 3: Analysis of the A/B test\n",
    "\n",
    "In this section, we will use the visits and orders datasets to calculate and plot the following:\n",
    "\n",
    "1. Cumulative revenue by group;\n",
    "2. Cumulative average order size by group;\n",
    "3. The relative difference in cumulative average order size for group B compared with group A; and\n",
    "4. Daily and cumulative conversion rates of the two groups."
   ]
  },
  {
   "cell_type": "code",
   "execution_count": 28,
   "metadata": {},
   "outputs": [
    {
     "data": {
      "text/html": [
       "<div>\n",
       "<style scoped>\n",
       "    .dataframe tbody tr th:only-of-type {\n",
       "        vertical-align: middle;\n",
       "    }\n",
       "\n",
       "    .dataframe tbody tr th {\n",
       "        vertical-align: top;\n",
       "    }\n",
       "\n",
       "    .dataframe thead th {\n",
       "        text-align: right;\n",
       "    }\n",
       "</style>\n",
       "<table border=\"1\" class=\"dataframe\">\n",
       "  <thead>\n",
       "    <tr style=\"text-align: right;\">\n",
       "      <th></th>\n",
       "      <th>transactionId</th>\n",
       "      <th>visitorId</th>\n",
       "      <th>date</th>\n",
       "      <th>revenue</th>\n",
       "      <th>group</th>\n",
       "    </tr>\n",
       "  </thead>\n",
       "  <tbody>\n",
       "    <tr>\n",
       "      <th>0</th>\n",
       "      <td>3667963787</td>\n",
       "      <td>3312258926</td>\n",
       "      <td>2019-08-15</td>\n",
       "      <td>30.4</td>\n",
       "      <td>B</td>\n",
       "    </tr>\n",
       "    <tr>\n",
       "      <th>1</th>\n",
       "      <td>2804400009</td>\n",
       "      <td>3642806036</td>\n",
       "      <td>2019-08-15</td>\n",
       "      <td>15.2</td>\n",
       "      <td>B</td>\n",
       "    </tr>\n",
       "    <tr>\n",
       "      <th>3</th>\n",
       "      <td>3797467345</td>\n",
       "      <td>1196621759</td>\n",
       "      <td>2019-08-15</td>\n",
       "      <td>155.1</td>\n",
       "      <td>B</td>\n",
       "    </tr>\n",
       "    <tr>\n",
       "      <th>4</th>\n",
       "      <td>2282983706</td>\n",
       "      <td>2322279887</td>\n",
       "      <td>2019-08-15</td>\n",
       "      <td>40.5</td>\n",
       "      <td>B</td>\n",
       "    </tr>\n",
       "    <tr>\n",
       "      <th>5</th>\n",
       "      <td>182168103</td>\n",
       "      <td>935554773</td>\n",
       "      <td>2019-08-15</td>\n",
       "      <td>35.0</td>\n",
       "      <td>B</td>\n",
       "    </tr>\n",
       "  </tbody>\n",
       "</table>\n",
       "</div>"
      ],
      "text/plain": [
       "   transactionId   visitorId       date  revenue group\n",
       "0     3667963787  3312258926 2019-08-15     30.4     B\n",
       "1     2804400009  3642806036 2019-08-15     15.2     B\n",
       "3     3797467345  1196621759 2019-08-15    155.1     B\n",
       "4     2282983706  2322279887 2019-08-15     40.5     B\n",
       "5      182168103   935554773 2019-08-15     35.0     B"
      ]
     },
     "execution_count": 28,
     "metadata": {},
     "output_type": "execute_result"
    }
   ],
   "source": [
    "orders.head()"
   ]
  },
  {
   "cell_type": "code",
   "execution_count": 29,
   "metadata": {},
   "outputs": [
    {
     "data": {
      "text/html": [
       "<div>\n",
       "<style scoped>\n",
       "    .dataframe tbody tr th:only-of-type {\n",
       "        vertical-align: middle;\n",
       "    }\n",
       "\n",
       "    .dataframe tbody tr th {\n",
       "        vertical-align: top;\n",
       "    }\n",
       "\n",
       "    .dataframe thead th {\n",
       "        text-align: right;\n",
       "    }\n",
       "</style>\n",
       "<table border=\"1\" class=\"dataframe\">\n",
       "  <thead>\n",
       "    <tr style=\"text-align: right;\">\n",
       "      <th></th>\n",
       "      <th>date</th>\n",
       "      <th>group</th>\n",
       "      <th>visits</th>\n",
       "    </tr>\n",
       "  </thead>\n",
       "  <tbody>\n",
       "    <tr>\n",
       "      <th>0</th>\n",
       "      <td>2019-08-01</td>\n",
       "      <td>A</td>\n",
       "      <td>719</td>\n",
       "    </tr>\n",
       "    <tr>\n",
       "      <th>1</th>\n",
       "      <td>2019-08-02</td>\n",
       "      <td>A</td>\n",
       "      <td>619</td>\n",
       "    </tr>\n",
       "    <tr>\n",
       "      <th>2</th>\n",
       "      <td>2019-08-03</td>\n",
       "      <td>A</td>\n",
       "      <td>507</td>\n",
       "    </tr>\n",
       "    <tr>\n",
       "      <th>3</th>\n",
       "      <td>2019-08-04</td>\n",
       "      <td>A</td>\n",
       "      <td>717</td>\n",
       "    </tr>\n",
       "    <tr>\n",
       "      <th>4</th>\n",
       "      <td>2019-08-05</td>\n",
       "      <td>A</td>\n",
       "      <td>756</td>\n",
       "    </tr>\n",
       "  </tbody>\n",
       "</table>\n",
       "</div>"
      ],
      "text/plain": [
       "        date group  visits\n",
       "0 2019-08-01     A     719\n",
       "1 2019-08-02     A     619\n",
       "2 2019-08-03     A     507\n",
       "3 2019-08-04     A     717\n",
       "4 2019-08-05     A     756"
      ]
     },
     "execution_count": 29,
     "metadata": {},
     "output_type": "execute_result"
    }
   ],
   "source": [
    "visits.head()"
   ]
  },
  {
   "cell_type": "markdown",
   "metadata": {},
   "source": [
    "3.1 Cumulative revenue by group\n",
    "First, to create a DatesGroup dataframe that only contains the unique combination of date and group, and aggregate the orders data to get the accumulative number of orders and visitors, as well as revenue."
   ]
  },
  {
   "cell_type": "code",
   "execution_count": 30,
   "metadata": {},
   "outputs": [],
   "source": [
    "datesGroups = orders[['date', 'group']].drop_duplicates()\n",
    "ordersAggregated = datesGroups.apply(\n",
    "    lambda x: orders[np.logical_and(orders['date'] <= x['date'], orders[\n",
    "        'group'] == x['group'])].agg({\n",
    "            'date': 'max',\n",
    "            'group': 'max',\n",
    "            'transactionId': pd.Series.nunique,\n",
    "            'visitorId': pd.Series.nunique,\n",
    "            'revenue': 'sum'\n",
    "        }),\n",
    "    axis=1).sort_values(by=['date', 'group'])"
   ]
  },
  {
   "cell_type": "code",
   "execution_count": 31,
   "metadata": {},
   "outputs": [],
   "source": [
    "visitorsAggregated = datesGroups.apply(\n",
    "    lambda x: visits[np.logical_and(visits['date'] <= x['date'], visits[\n",
    "        'group'] == x['group'])].agg({\n",
    "            'date': 'max',\n",
    "            'group': 'max',\n",
    "            'visits': 'sum'\n",
    "        }),\n",
    "    axis=1).sort_values(by=['date', 'group'])"
   ]
  },
  {
   "cell_type": "markdown",
   "metadata": {},
   "source": [
    "Now to merge the two aggregated datasets so we have the orders, users, revenue, and visitors information for each unique date and group combination."
   ]
  },
  {
   "cell_type": "code",
   "execution_count": 32,
   "metadata": {},
   "outputs": [],
   "source": [
    "cumulative_Data = ordersAggregated.merge(visitorsAggregated, left_on=['date', 'group'], right_on=['date', 'group'])\n",
    "cumulative_Data.columns = ['date', 'group', 'orders', 'buyers', 'revenue', 'visitors']"
   ]
  },
  {
   "cell_type": "code",
   "execution_count": 33,
   "metadata": {},
   "outputs": [
    {
     "data": {
      "text/html": [
       "<div>\n",
       "<style scoped>\n",
       "    .dataframe tbody tr th:only-of-type {\n",
       "        vertical-align: middle;\n",
       "    }\n",
       "\n",
       "    .dataframe tbody tr th {\n",
       "        vertical-align: top;\n",
       "    }\n",
       "\n",
       "    .dataframe thead th {\n",
       "        text-align: right;\n",
       "    }\n",
       "</style>\n",
       "<table border=\"1\" class=\"dataframe\">\n",
       "  <thead>\n",
       "    <tr style=\"text-align: right;\">\n",
       "      <th></th>\n",
       "      <th>date</th>\n",
       "      <th>group</th>\n",
       "      <th>orders</th>\n",
       "      <th>buyers</th>\n",
       "      <th>revenue</th>\n",
       "      <th>visitors</th>\n",
       "    </tr>\n",
       "  </thead>\n",
       "  <tbody>\n",
       "    <tr>\n",
       "      <th>0</th>\n",
       "      <td>2019-08-01</td>\n",
       "      <td>A</td>\n",
       "      <td>23</td>\n",
       "      <td>19</td>\n",
       "      <td>2266.6</td>\n",
       "      <td>719</td>\n",
       "    </tr>\n",
       "    <tr>\n",
       "      <th>1</th>\n",
       "      <td>2019-08-01</td>\n",
       "      <td>B</td>\n",
       "      <td>17</td>\n",
       "      <td>17</td>\n",
       "      <td>967.2</td>\n",
       "      <td>713</td>\n",
       "    </tr>\n",
       "    <tr>\n",
       "      <th>2</th>\n",
       "      <td>2019-08-02</td>\n",
       "      <td>A</td>\n",
       "      <td>42</td>\n",
       "      <td>36</td>\n",
       "      <td>3734.9</td>\n",
       "      <td>1338</td>\n",
       "    </tr>\n",
       "    <tr>\n",
       "      <th>3</th>\n",
       "      <td>2019-08-02</td>\n",
       "      <td>B</td>\n",
       "      <td>40</td>\n",
       "      <td>39</td>\n",
       "      <td>3535.3</td>\n",
       "      <td>1294</td>\n",
       "    </tr>\n",
       "    <tr>\n",
       "      <th>4</th>\n",
       "      <td>2019-08-03</td>\n",
       "      <td>A</td>\n",
       "      <td>66</td>\n",
       "      <td>60</td>\n",
       "      <td>5550.1</td>\n",
       "      <td>1845</td>\n",
       "    </tr>\n",
       "  </tbody>\n",
       "</table>\n",
       "</div>"
      ],
      "text/plain": [
       "        date group  orders  buyers  revenue  visitors\n",
       "0 2019-08-01     A      23      19   2266.6       719\n",
       "1 2019-08-01     B      17      17    967.2       713\n",
       "2 2019-08-02     A      42      36   3734.9      1338\n",
       "3 2019-08-02     B      40      39   3535.3      1294\n",
       "4 2019-08-03     A      66      60   5550.1      1845"
      ]
     },
     "execution_count": 33,
     "metadata": {},
     "output_type": "execute_result"
    }
   ],
   "source": [
    "cumulative_Data.head()"
   ]
  },
  {
   "cell_type": "markdown",
   "metadata": {},
   "source": [
    "Now I'll create two subsets containing the group A and group B records respectively, and plot the accumulative revenue for both groups on the same graph."
   ]
  },
  {
   "cell_type": "code",
   "execution_count": 34,
   "metadata": {},
   "outputs": [],
   "source": [
    "cumulativeRevenueA = cumulative_Data[cumulative_Data['group'] == 'A'][[\n",
    "    'date', 'revenue', 'orders'\n",
    "]]\n",
    "cumulativeRevenueB = cumulative_Data[cumulative_Data['group'] == 'B'][[\n",
    "    'date', 'revenue', 'orders'\n",
    "]]"
   ]
  },
  {
   "cell_type": "code",
   "execution_count": 35,
   "metadata": {},
   "outputs": [
    {
     "data": {
      "image/png": "[encoded data removed]",
      "text/plain": [
       "<Figure size 640x480 with 1 Axes>"
      ]
     },
     "metadata": {},
     "output_type": "display_data"
    }
   ],
   "source": [
    "plt.plot(cumulativeRevenueA['date'], \n",
    "         cumulativeRevenueA['revenue'], \n",
    "         label='A')\n",
    "plt.plot(cumulativeRevenueB['date'], \n",
    "         cumulativeRevenueB['revenue'], \n",
    "         label='B')\n",
    "plt.legend()\n",
    "plt.ylabel('Revenue')\n",
    "plt.title('Cumulative revenue by A/B group')\n",
    "plt.xticks(rotation=45)\n",
    "plt.grid()\n",
    "plt.show()"
   ]
  },
  {
   "cell_type": "markdown",
   "metadata": {},
   "source": [
    "The cumulative revenue analysis shows both groups maintained similar growth rates until mid-August, when Group B experienced a sudden spike, gaining a lead of over 20,000 in revenue which persisted through the month. This jump likely resulted from one or more unusually large orders in Group B. After this spike, both groups resumed similar growth patterns. While the overall trends are comparable between groups, we'll need to examine the mid-August anomaly in Group B for a more accurate comparison."
   ]
  },
  {
   "cell_type": "markdown",
   "metadata": {},
   "source": [
    "<div class=\"alert alert-success\" style=\"border-radius: 15px; box-shadow: 4px 4px 4px; border: 1px solid \">\n",
    "<h2>  Reviewer's comment </h2>\n",
    "    \n",
    "Good! \n",
    "</div>"
   ]
  },
  {
   "cell_type": "markdown",
   "metadata": {},
   "source": [
    "3.2 Cumulative average order size by group\n",
    "\n",
    "Next, let's plot the cumulative average order size by A/B group. We will calculate this as the cumulative revenue divided by the cumulative number of orders."
   ]
  },
  {
   "cell_type": "code",
   "execution_count": 36,
   "metadata": {},
   "outputs": [
    {
     "data": {
      "image/png": "[encoded data removed]",
      "text/plain": [
       "<Figure size 640x480 with 1 Axes>"
      ]
     },
     "metadata": {},
     "output_type": "display_data"
    }
   ],
   "source": [
    "plt.plot(cumulativeRevenueA['date'],\n",
    "         cumulativeRevenueA['revenue'] / cumulativeRevenueA['orders'],\n",
    "         label='A')\n",
    "plt.plot(cumulativeRevenueB['date'],\n",
    "         cumulativeRevenueB['revenue'] / cumulativeRevenueB['orders'],\n",
    "         label='B')\n",
    "plt.legend()\n",
    "plt.ylabel('Average order size')\n",
    "plt.title('Cumulative average order size by A/B group')\n",
    "plt.xticks(rotation=45)\n",
    "plt.grid()\n",
    "plt.show()"
   ]
  },
  {
   "cell_type": "markdown",
   "metadata": {},
   "source": [
    "The average order size analysis shows initial fluctuations in both groups prior to mid-August, making it difficult to determine which group performed better. Group B then experienced a significant spike, followed by a gradual decrease. This spike likely corresponds to some exceptionally large orders in mid-August. While Group A's average order size appears to stabilize between 100 and 120, more data is needed to determine Group B's true average purchase size after the anomaly."
   ]
  },
  {
   "cell_type": "markdown",
   "metadata": {},
   "source": [
    "<div class=\"alert alert-success\" style=\"border-radius: 15px; box-shadow: 4px 4px 4px; border: 1px solid \">\n",
    "<h2>  Reviewer's comment </h2>\n",
    "    \n",
    "Correct! \n",
    "    \n",
    "</div>"
   ]
  },
  {
   "cell_type": "markdown",
   "metadata": {},
   "source": [
    "3.3 Relative difference in cumulative average order size(B compared with A)\n",
    "\n",
    "Now let's plot a relative difference graph for the average purchase sizes for B group compared with A group. We will merge the two subsets first and then calculate the difference and plot it."
   ]
  },
  {
   "cell_type": "code",
   "execution_count": 37,
   "metadata": {},
   "outputs": [],
   "source": [
    "mergedCumulativeRevenue = cumulativeRevenueA.merge(cumulativeRevenueB, on='date', how='left', suffixes=['A', 'B'])"
   ]
  },
  {
   "cell_type": "code",
   "execution_count": 38,
   "metadata": {},
   "outputs": [
    {
     "data": {
      "image/png": "[encoded data removed]",
      "text/plain": [
       "<Figure size 640x480 with 1 Axes>"
      ]
     },
     "metadata": {},
     "output_type": "display_data"
    }
   ],
   "source": [
    "plt.plot(\n",
    "    mergedCumulativeRevenue['date'],\n",
    "    (mergedCumulativeRevenue['revenueB'] / mergedCumulativeRevenue['ordersB'])\n",
    "    /\n",
    "    (mergedCumulativeRevenue['revenueA'] / mergedCumulativeRevenue['ordersA'])\n",
    "    - 1)\n",
    "plt.title('Relative difference in cumulative average order size')\n",
    "plt.ylabel('Cumulative average order size')\n",
    "plt.xticks(rotation=45)\n",
    "plt.axhline(y=0, color='black', linestyle='--') \n",
    "plt.ylim(-1, 1)\n",
    "plt.grid()\n",
    "plt.show()"
   ]
  },
  {
   "cell_type": "markdown",
   "metadata": {},
   "source": [
    "The comparison of relative purchase sizes between groups shows fluctuating patterns. Group B's apparent advantage is largely influenced by the suspicious large order(s), resulting in more gains than losses. However, the downward trend following the spike suggests that after removing these anomalies, Group B might actually show relative losses in the test's final two weeks. This will be examined further in our detailed analysis."
   ]
  },
  {
   "cell_type": "markdown",
   "metadata": {},
   "source": [
    "<div class=\"alert alert-success\" style=\"border-radius: 15px; box-shadow: 4px 4px 4px; border: 1px solid \">\n",
    "<h2>  Reviewer's comment </h2>\n",
    "    \n",
    "Correct! \n",
    "    \n",
    "</div>"
   ]
  },
  {
   "cell_type": "markdown",
   "metadata": {},
   "source": [
    "3.4 Daily conversion rates of the A/B group\n",
    "\n",
    "First, we will calculate and plot the daily conversion rate of the A/B group. We will calculate this as the number of orders divided by the number of visitors.\n",
    "\n",
    "Let's create the dataframe containing the daily conversion rate for both groups."
   ]
  },
  {
   "cell_type": "code",
   "execution_count": 39,
   "metadata": {},
   "outputs": [
    {
     "data": {
      "text/html": [
       "<div>\n",
       "<style scoped>\n",
       "    .dataframe tbody tr th:only-of-type {\n",
       "        vertical-align: middle;\n",
       "    }\n",
       "\n",
       "    .dataframe tbody tr th {\n",
       "        vertical-align: top;\n",
       "    }\n",
       "\n",
       "    .dataframe thead th {\n",
       "        text-align: right;\n",
       "    }\n",
       "</style>\n",
       "<table border=\"1\" class=\"dataframe\">\n",
       "  <thead>\n",
       "    <tr style=\"text-align: right;\">\n",
       "      <th></th>\n",
       "      <th>group</th>\n",
       "      <th>date</th>\n",
       "      <th>orders</th>\n",
       "      <th>visits</th>\n",
       "      <th>conversion</th>\n",
       "    </tr>\n",
       "  </thead>\n",
       "  <tbody>\n",
       "    <tr>\n",
       "      <th>0</th>\n",
       "      <td>A</td>\n",
       "      <td>2019-08-01</td>\n",
       "      <td>23</td>\n",
       "      <td>719</td>\n",
       "      <td>0.031989</td>\n",
       "    </tr>\n",
       "    <tr>\n",
       "      <th>1</th>\n",
       "      <td>A</td>\n",
       "      <td>2019-08-02</td>\n",
       "      <td>19</td>\n",
       "      <td>619</td>\n",
       "      <td>0.030695</td>\n",
       "    </tr>\n",
       "    <tr>\n",
       "      <th>2</th>\n",
       "      <td>A</td>\n",
       "      <td>2019-08-03</td>\n",
       "      <td>24</td>\n",
       "      <td>507</td>\n",
       "      <td>0.047337</td>\n",
       "    </tr>\n",
       "    <tr>\n",
       "      <th>3</th>\n",
       "      <td>A</td>\n",
       "      <td>2019-08-04</td>\n",
       "      <td>11</td>\n",
       "      <td>717</td>\n",
       "      <td>0.015342</td>\n",
       "    </tr>\n",
       "    <tr>\n",
       "      <th>4</th>\n",
       "      <td>A</td>\n",
       "      <td>2019-08-05</td>\n",
       "      <td>22</td>\n",
       "      <td>756</td>\n",
       "      <td>0.029101</td>\n",
       "    </tr>\n",
       "  </tbody>\n",
       "</table>\n",
       "</div>"
      ],
      "text/plain": [
       "  group       date  orders  visits  conversion\n",
       "0     A 2019-08-01      23     719    0.031989\n",
       "1     A 2019-08-02      19     619    0.030695\n",
       "2     A 2019-08-03      24     507    0.047337\n",
       "3     A 2019-08-04      11     717    0.015342\n",
       "4     A 2019-08-05      22     756    0.029101"
      ]
     },
     "execution_count": 39,
     "metadata": {},
     "output_type": "execute_result"
    }
   ],
   "source": [
    "ordersByGroup = orders.groupby(['group', 'date']).agg(\n",
    "    {'transactionId': 'count'}).reset_index()\n",
    "ordersByGroup.columns=['group', 'date', 'orders']\n",
    "dailyConversion = ordersByGroup.merge(visits, on=['group', 'date'])\n",
    "dailyConversion['conversion'] = dailyConversion['orders']/dailyConversion['visits']\n",
    "dailyConversion.head()"
   ]
  },
  {
   "cell_type": "code",
   "execution_count": 40,
   "metadata": {},
   "outputs": [
    {
     "data": {
      "image/png": "[encoded data removed]",
      "text/plain": [
       "<Figure size 640x480 with 1 Axes>"
      ]
     },
     "metadata": {},
     "output_type": "display_data"
    }
   ],
   "source": [
    "conversionA = dailyConversion[dailyConversion['group'] == 'A']\n",
    "conversionB = dailyConversion[dailyConversion['group'] == 'B']\n",
    "plt.plot(conversionA['date'], conversionA['conversion'], label='A')\n",
    "plt.plot(conversionB['date'], conversionB['conversion'], label='B')\n",
    "plt.legend()\n",
    "plt.title('Daily conversion rate of A/B group')\n",
    "plt.ylabel('Conversion rate')\n",
    "plt.xticks(rotation=45)\n",
    "plt.grid()\n",
    "plt.show()"
   ]
  },
  {
   "cell_type": "markdown",
   "metadata": {},
   "source": [
    "From the graph above, we can see some a clear spike in B ahead of A in the second week of August, but it's hard to tell overall which group is doing better becauase they both fluctuate strongly.\n",
    "\n",
    "Let's plot the relative difference in daily conversion rate for B compared with A."
   ]
  },
  {
   "cell_type": "code",
   "execution_count": 41,
   "metadata": {},
   "outputs": [
    {
     "data": {
      "image/png": "[encoded data removed]",
      "text/plain": [
       "<Figure size 640x480 with 1 Axes>"
      ]
     },
     "metadata": {},
     "output_type": "display_data"
    }
   ],
   "source": [
    "mergedDailyConversions = conversionA[['date', 'conversion']].merge(\n",
    "    conversionB[['date', 'conversion']], on='date', how='left', suffixes=['A', 'B'])\n",
    "\n",
    "plt.plot(mergedDailyConversions['date'],\n",
    "         mergedDailyConversions['conversionB'] /\n",
    "         mergedDailyConversions['conversionA'] - 1)\n",
    "plt.title('Relative gain in daily conversion in group B as opposed to group A')\n",
    "plt.axhline(y=0, color='black', linestyle='--')\n",
    "#plt.axis([\"2019-08-01\", '2019-08-31', -0.5, 0.5])\n",
    "plt.ylabel('Conversation rate')\n",
    "plt.xticks(rotation=45)\n",
    "plt.grid()\n",
    "plt.show()"
   ]
  },
  {
   "cell_type": "markdown",
   "metadata": {},
   "source": [
    "We can see from the graph of the relative difference in daily conversion rate that overall there seem to be more relative gains in conversion rate for B group than losses. To get a clear picture of these gains, we will need to take a look at the cumulative conversion rates."
   ]
  },
  {
   "cell_type": "markdown",
   "metadata": {},
   "source": [
    "<div class=\"alert alert-success\" style=\"border-radius: 15px; box-shadow: 4px 4px 4px; border: 1px solid \">\n",
    "<h2>  Reviewer's comment </h2>\n",
    "    \n",
    "Looks correct! \n",
    "</div>"
   ]
  },
  {
   "cell_type": "markdown",
   "metadata": {},
   "source": [
    "3.5 Cumulative conversion rates of the A/B group\n",
    "Let's use the cumulativeData dataset and plot the cumulative conversion rates for the A/B group."
   ]
  },
  {
   "cell_type": "code",
   "execution_count": 42,
   "metadata": {},
   "outputs": [
    {
     "data": {
      "image/png": "[encoded data removed]",
      "text/plain": [
       "<Figure size 1000x600 with 1 Axes>"
      ]
     },
     "metadata": {},
     "output_type": "display_data"
    }
   ],
   "source": [
    "cumulative_Data['date'] = pd.to_datetime(cumulative_Data['date'])\n",
    "\n",
    "cumulative_Data['conversion'] = cumulative_Data['orders'] / cumulative_Data['visitors']\n",
    "\n",
    "cumulativeDataA = cumulative_Data[cumulative_Data['group'] == 'A']\n",
    "cumulativeDataB = cumulative_Data[cumulative_Data['group'] == 'B']\n",
    "\n",
    "plt.figure(figsize=(10, 6))\n",
    "plt.plot(cumulativeDataA['date'], cumulativeDataA['conversion'], label='A')\n",
    "plt.plot(cumulativeDataB['date'], cumulativeDataB['conversion'], label='B')\n",
    "\n",
    "start_date = pd.to_datetime(\"2019-08-01\")\n",
    "end_date = pd.to_datetime(\"2019-08-31\")\n",
    "\n",
    "plt.legend()\n",
    "plt.title('Cumulative Conversion Rate of A/B Group')\n",
    "plt.ylabel('Conversion Rate')\n",
    "plt.xticks(rotation=45)\n",
    "\n",
    "plt.xlim(start_date, end_date)\n",
    "plt.ylim(0, 0.05)  \n",
    "\n",
    "plt.grid()\n",
    "plt.show()\n"
   ]
  },
  {
   "cell_type": "markdown",
   "metadata": {},
   "source": [
    "<div class=\"alert alert-success\" style=\"border-radius: 15px; box-shadow: 4px 4px 4px; border: 1px solid \">\n",
    "<h2>  Reviewer's comment </h2>\n",
    "    \n",
    "Good. \n",
    "</div>\n",
    "<div class=\"alert alert-warning\" style=\"border-radius: 15px; box-shadow: 4px 4px 4px; border: 1px solid \">\n",
    "<h2>  Reviewer's comment </h2>\n",
    "    \n",
    "You can change the Y axis range to enhance readability. \n",
    "</div>"
   ]
  },
  {
   "cell_type": "markdown",
   "metadata": {},
   "source": [
    "Now it's quite clear that, after the first week in August, group B has been having a consistently higher cumulative conversion rates than group A. Let's look at the gain in conversion rates by plotting relative difference in them for group B compared with group A."
   ]
  },
  {
   "cell_type": "code",
   "execution_count": 43,
   "metadata": {
    "scrolled": false
   },
   "outputs": [
    {
     "data": {
      "image/png": "[encoded data removed]",
      "text/plain": [
       "<Figure size 1000x600 with 1 Axes>"
      ]
     },
     "metadata": {},
     "output_type": "display_data"
    }
   ],
   "source": [
    "cumulative_Data['date'] = pd.to_datetime(cumulative_Data['date'])\n",
    "\n",
    "mergedCumulativeConversions = cumulativeDataA[['date', 'conversion']].merge(\n",
    "    cumulativeDataB[['date', 'conversion']], on='date', how='left', suffixes=['A', 'B']\n",
    ")\n",
    "\n",
    "start_date = pd.to_datetime(\"2019-08-01\")\n",
    "end_date = pd.to_datetime(\"2019-08-31\")\n",
    "\n",
    "plt.figure(figsize=(10, 6))\n",
    "plt.plot(mergedCumulativeConversions['date'],\n",
    "         mergedCumulativeConversions['conversionB'] / \n",
    "         mergedCumulativeConversions['conversionA'] - 1)\n",
    "\n",
    "plt.title('Relative Gain in Conversion Rate of Group B vs Group A')\n",
    "plt.axhline(y=0, color='black', linestyle='--')\n",
    "plt.axhline(y=0.2, color='grey', linestyle='--')\n",
    "\n",
    "plt.xlim(start_date, end_date)\n",
    "plt.ylim(-0.5, 0.5)\n",
    "\n",
    "plt.ylabel('Conversion Rate')\n",
    "plt.xticks(rotation=45)\n",
    "plt.grid()\n",
    "plt.show()\n"
   ]
  },
  {
   "cell_type": "markdown",
   "metadata": {},
   "source": [
    "Now we can see that, after the first week in August, group B's relative gain in cumulative conversion rates compared with group A climbed up to 0.2 and then fluctuates just slightly below that.\n",
    "\n",
    "Group B seems to be doing consistently better than group A in terms of conversion rates. Still, we will also need to see what happens to this after removing the anomalies in the data."
   ]
  },
  {
   "cell_type": "markdown",
   "metadata": {},
   "source": [
    "# Part 3 summary\n",
    "\n",
    "The analysis in this sections shows some interesting results. The cumulative revenue for group A and group B seem to rise at about the same rate, except for the spike in mid August for group B, possibly caused by some large order(s). There is no clear pattern in cumulative average purchase size for the two groups, except, again, a spike in mid August for group B. The relative difference in daily conversion rate for group B compared with group A seems to show more gains than losses, which became clear in graph for the relative difference in cumulative conversion rates: group B was leading consistently after the first week in August.\n",
    "\n",
    "Next, we will take a closer look at the revenue and order number from the data and address the anomalies in these."
   ]
  },
  {
   "cell_type": "markdown",
   "metadata": {},
   "source": [
    "<div class=\"alert alert-success\" style=\"border-radius: 15px; box-shadow: 4px 4px 4px; border: 1px solid \">\n",
    "<h2>  Reviewer's comment </h2>\n",
    "    \n",
    "Great job! \n",
    "</div>"
   ]
  },
  {
   "cell_type": "markdown",
   "metadata": {},
   "source": []
  },
  {
   "cell_type": "markdown",
   "metadata": {},
   "source": [
    "# Part 4: Detecting anomalies\n",
    "In this section, we will carry out the following plots and calculations:\n",
    "\n",
    "1. Scatter plot of the number of orders per user;\n",
    "2. The 95th and 99th percentiles for the number of orders per user;\n",
    "3. Scatter plot of order prices; and\n",
    "4. The 95th and 99th percentiles of order prices."
   ]
  },
  {
   "cell_type": "markdown",
   "metadata": {},
   "source": [
    "4.1 Scatter plot of the number of orders per user\n",
    "\n",
    "First create a dataframe containing the number of orders by user."
   ]
  },
  {
   "cell_type": "code",
   "execution_count": 44,
   "metadata": {},
   "outputs": [],
   "source": [
    "ordersByUsers = orders.groupby('visitorId', as_index=False).agg({\n",
    "    'transactionId':\n",
    "    pd.Series.nunique,\n",
    "    'group':\n",
    "    'max'\n",
    "})\n",
    "ordersByUsers.columns=['visitorId', 'orders', 'group']"
   ]
  },
  {
   "cell_type": "code",
   "execution_count": 45,
   "metadata": {},
   "outputs": [
    {
     "data": {
      "text/html": [
       "<div>\n",
       "<style scoped>\n",
       "    .dataframe tbody tr th:only-of-type {\n",
       "        vertical-align: middle;\n",
       "    }\n",
       "\n",
       "    .dataframe tbody tr th {\n",
       "        vertical-align: top;\n",
       "    }\n",
       "\n",
       "    .dataframe thead th {\n",
       "        text-align: right;\n",
       "    }\n",
       "</style>\n",
       "<table border=\"1\" class=\"dataframe\">\n",
       "  <thead>\n",
       "    <tr style=\"text-align: right;\">\n",
       "      <th></th>\n",
       "      <th>visitorId</th>\n",
       "      <th>orders</th>\n",
       "      <th>group</th>\n",
       "    </tr>\n",
       "  </thead>\n",
       "  <tbody>\n",
       "    <tr>\n",
       "      <th>908</th>\n",
       "      <td>3967698036</td>\n",
       "      <td>3</td>\n",
       "      <td>A</td>\n",
       "    </tr>\n",
       "    <tr>\n",
       "      <th>55</th>\n",
       "      <td>249864742</td>\n",
       "      <td>3</td>\n",
       "      <td>B</td>\n",
       "    </tr>\n",
       "    <tr>\n",
       "      <th>478</th>\n",
       "      <td>2108163459</td>\n",
       "      <td>3</td>\n",
       "      <td>A</td>\n",
       "    </tr>\n",
       "    <tr>\n",
       "      <th>687</th>\n",
       "      <td>2988190573</td>\n",
       "      <td>3</td>\n",
       "      <td>A</td>\n",
       "    </tr>\n",
       "    <tr>\n",
       "      <th>890</th>\n",
       "      <td>3908431265</td>\n",
       "      <td>3</td>\n",
       "      <td>A</td>\n",
       "    </tr>\n",
       "    <tr>\n",
       "      <th>138</th>\n",
       "      <td>611059232</td>\n",
       "      <td>3</td>\n",
       "      <td>A</td>\n",
       "    </tr>\n",
       "    <tr>\n",
       "      <th>632</th>\n",
       "      <td>2742574263</td>\n",
       "      <td>3</td>\n",
       "      <td>B</td>\n",
       "    </tr>\n",
       "    <tr>\n",
       "      <th>157</th>\n",
       "      <td>678354126</td>\n",
       "      <td>2</td>\n",
       "      <td>A</td>\n",
       "    </tr>\n",
       "    <tr>\n",
       "      <th>323</th>\n",
       "      <td>1404560065</td>\n",
       "      <td>2</td>\n",
       "      <td>B</td>\n",
       "    </tr>\n",
       "    <tr>\n",
       "      <th>452</th>\n",
       "      <td>1985475298</td>\n",
       "      <td>2</td>\n",
       "      <td>B</td>\n",
       "    </tr>\n",
       "  </tbody>\n",
       "</table>\n",
       "</div>"
      ],
      "text/plain": [
       "      visitorId  orders group\n",
       "908  3967698036       3     A\n",
       "55    249864742       3     B\n",
       "478  2108163459       3     A\n",
       "687  2988190573       3     A\n",
       "890  3908431265       3     A\n",
       "138   611059232       3     A\n",
       "632  2742574263       3     B\n",
       "157   678354126       2     A\n",
       "323  1404560065       2     B\n",
       "452  1985475298       2     B"
      ]
     },
     "execution_count": 45,
     "metadata": {},
     "output_type": "execute_result"
    }
   ],
   "source": [
    "ordersByUsers.sort_values(by='orders', ascending=False).head(10)"
   ]
  },
  {
   "cell_type": "markdown",
   "metadata": {},
   "source": [
    "It doesn't seem that there are any outrageous numbers. Now a scatterplot to show the order number next."
   ]
  },
  {
   "cell_type": "code",
   "execution_count": 46,
   "metadata": {},
   "outputs": [
    {
     "data": {
      "image/png": "[encoded data removed]",
      "text/plain": [
       "<Figure size 640x480 with 1 Axes>"
      ]
     },
     "metadata": {},
     "output_type": "display_data"
    }
   ],
   "source": [
    "x_values_A = pd.Series(range(0, len(ordersByUsers[ordersByUsers['group'] == 'A']['orders'])))\n",
    "x_values_B = pd.Series(range(0, len(ordersByUsers[ordersByUsers['group'] == 'B']['orders'])))\n",
    "plt.scatter(x=x_values_A,\n",
    "            y=ordersByUsers[ordersByUsers['group'] == 'A']['orders'],\n",
    "            label='A')\n",
    "plt.scatter(x=x_values_B,\n",
    "            y=ordersByUsers[ordersByUsers['group'] == 'B']['orders'],\n",
    "            label='B')\n",
    "plt.legend()\n",
    "plt.title('Scatterplot of order number by user')\n",
    "plt.ylabel('Number of orders by user')\n",
    "plt.show()"
   ]
  },
  {
   "cell_type": "markdown",
   "metadata": {},
   "source": [
    "The scatterplot shows there are 7 users who have made 3 orders, among whom 2 are from B group and rest from A group. There are around a dozen users made 2 orders, and the rest all had 1 order."
   ]
  },
  {
   "cell_type": "markdown",
   "metadata": {},
   "source": [
    "<div class=\"alert alert-success\" style=\"border-radius: 15px; box-shadow: 4px 4px 4px; border: 1px solid \">\n",
    "<h2>  Reviewer's comment </h2>\n",
    "    \n",
    "True. \n",
    "</div>"
   ]
  },
  {
   "cell_type": "markdown",
   "metadata": {},
   "source": [
    "4.2 95th and 99th percentiles for the number of orders per user\n",
    "\n",
    "Let's calculate the 95th and 99th percentiles for the order number per user."
   ]
  },
  {
   "cell_type": "code",
   "execution_count": 47,
   "metadata": {},
   "outputs": [
    {
     "data": {
      "text/plain": [
       "array([1., 2.])"
      ]
     },
     "execution_count": 47,
     "metadata": {},
     "output_type": "execute_result"
    }
   ],
   "source": [
    "np.percentile(ordersByUsers['orders'], [95, 99])"
   ]
  },
  {
   "cell_type": "markdown",
   "metadata": {},
   "source": [
    "99% of the users made 1 or 2 orders. We can consider the 1% 3 orders per user outliers, however, in this case, they are not by any sense extreme. Therefore let's keep them in the data."
   ]
  },
  {
   "cell_type": "markdown",
   "metadata": {},
   "source": [
    "<div class=\"alert alert-success\" style=\"border-radius: 15px; box-shadow: 4px 4px 4px; border: 1px solid \">\n",
    "<h2>  Reviewer's comment </h2>\n",
    "    \n",
    "Correct! \n",
    "</div>"
   ]
  },
  {
   "cell_type": "markdown",
   "metadata": {},
   "source": [
    "4.3 Scatter chart of order prices\n",
    "\n",
    "From previous calculation, we had the suspicion that there might be some expensive orders which caused the spike in cumulative revenue and purchase size in group B. Let's make a scatterplot of the order prices to see what these are.\n",
    "\n",
    "Here we will make two scatterplots, one with full range of the revenue, the other with reduced range in order to get more details from it."
   ]
  },
  {
   "cell_type": "code",
   "execution_count": 48,
   "metadata": {},
   "outputs": [
    {
     "data": {
      "image/png": "[encoded data removed]",
      "text/plain": [
       "<Figure size 1000x400 with 2 Axes>"
      ]
     },
     "metadata": {},
     "output_type": "display_data"
    }
   ],
   "source": [
    "fig, (ax1,ax2) = plt.subplots(1,2, figsize=(10, 4))\n",
    "\n",
    "x_values_A = pd.Series(range(0, len(orders[orders['group'] == 'A']['revenue'])))\n",
    "x_values_B = pd.Series(range(0, len(orders[orders['group'] == 'B']['revenue'])))\n",
    "ax1.scatter(x=x_values_A, y=orders[orders['group'] == 'A']['revenue'], label = 'A')\n",
    "ax1.scatter(x=x_values_B, y=orders[orders['group'] == 'B']['revenue'], label = 'B')\n",
    "ax1.set_title('Scatterplot of order prices (full)')\n",
    "ax1.set_ylabel('Order prices')\n",
    "ax1.legend()\n",
    "\n",
    "ax2.scatter(x=x_values_A,\n",
    "            y=orders[orders['group'] == 'A']['revenue'], label = 'A')\n",
    "ax2.scatter(x=x_values_B,\n",
    "            y=orders[orders['group'] == 'B']['revenue'], label ='B')\n",
    "ax2.set_title('Scatterplot of order prices (reduced price range)')\n",
    "ax2.set_ylabel('')\n",
    "ax2.set_ylim(0, 2500)\n",
    "ax2.legend()\n",
    "plt.tight_layout()"
   ]
  },
  {
   "cell_type": "markdown",
   "metadata": {},
   "source": [
    "<div class=\"alert alert-warning\" style=\"border-radius: 15px; box-shadow: 4px 4px 4px; border: 1px solid \">\n",
    "<h2>  Reviewer's comment </h2>\n",
    "    \n",
    "Don't forget to add both axes labels. \n",
    "    \n",
    "</div>"
   ]
  },
  {
   "cell_type": "markdown",
   "metadata": {},
   "source": [
    "Here we can see the B group has an extremely large outlier order price, at almost 20000, and an not so extreme one floating above 2500. Taking both off the graph, we can see that majority of the order prices are under 1000, with just sevaral above.\n",
    "\n",
    "Let's calculate the 95th and 99th percentiles next."
   ]
  },
  {
   "cell_type": "markdown",
   "metadata": {},
   "source": [
    "<div class=\"alert alert-success\" style=\"border-radius: 15px; box-shadow: 4px 4px 4px; border: 1px solid \">\n",
    "<h2>  Reviewer's comment </h2>\n",
    "    \n",
    "Agreed. \n",
    "</div>"
   ]
  },
  {
   "cell_type": "markdown",
   "metadata": {},
   "source": [
    "4.4 95th and 99th percentiles of order prices"
   ]
  },
  {
   "cell_type": "code",
   "execution_count": 49,
   "metadata": {},
   "outputs": [
    {
     "data": {
      "text/plain": [
       "array([414.275, 830.3  ])"
      ]
     },
     "execution_count": 49,
     "metadata": {},
     "output_type": "execute_result"
    }
   ],
   "source": [
    "np.percentile(orders['revenue'], [95, 99])"
   ]
  },
  {
   "cell_type": "markdown",
   "metadata": {},
   "source": [
    "99% of the order prices are 830.3 and lower. Order prices above this point can be considered as anomalies. Given this information, as well as the information from the scatterplot, we can arbitrarily decide the cut off point as 1000 for outliers. When we perform the significance testing in the next section, we can filter out the anomalies based on this."
   ]
  },
  {
   "cell_type": "markdown",
   "metadata": {},
   "source": [
    "<div class=\"alert alert-success\" style=\"border-radius: 15px; box-shadow: 4px 4px 4px; border: 1px solid \">\n",
    "<h2>  Reviewer's comment </h2>\n",
    "    \n",
    "Everything is great! \n",
    "    \n",
    "</div>"
   ]
  },
  {
   "cell_type": "markdown",
   "metadata": {},
   "source": [
    "# Part 4 summary\n",
    "\n",
    "In this section, using scatter plots and the percentile function, we identified the anomalies in the data. While 3 orders per user represents only 1 percent of the total users, the value itself is not extreme and thus will be kept in the data. On the other hand, while 99% of the order prices are 830.3 and below, the highest order is as extreme as almost 20000. Outliers like this severly skew the data and thus will need to be removed to get a clear understanding of the groups' performance."
   ]
  },
  {
   "cell_type": "markdown",
   "metadata": {},
   "source": []
  },
  {
   "cell_type": "markdown",
   "metadata": {},
   "source": [
    "# Part 5: Statistical significant testing\n",
    "\n",
    "In this section, we will perform the following tests:\n",
    "\n",
    "1. Statistical significance of the difference in conversion between the groups using the raw data;\n",
    "\n",
    "2. Statistical significance of the difference in average order size between the groups using the raw data;\n",
    "\n",
    "3. Statistical significance of the difference in conversion between the groups using the filtered data; and\n",
    "\n",
    "4. Statistical significance of the difference in average order size between the groups using the filtered data."
   ]
  },
  {
   "cell_type": "markdown",
   "metadata": {},
   "source": [
    "5.1 Significance test of the difference in conversion rates using raw data\n",
    "To test if the A and B group have the same conversion rates, we will use a two sided Mann Whitney U test.\n",
    "\n",
    "The null hypothesis is that their conversion rates are the same; the alternative hypothesis is that they are different. Threshold for the significance level alpha will be set as 0.05.\n",
    "\n",
    "First we will create two samples, A and B, which contains the visitors and the number of their orders of each group respectively."
   ]
  },
  {
   "cell_type": "markdown",
   "metadata": {},
   "source": [
    "<div class=\"alert alert-success\" style=\"border-radius: 15px; box-shadow: 4px 4px 4px; border: 1px solid \">\n",
    "<h2>  Reviewer's comment </h2>\n",
    "    \n",
    "The hypotheses wording it correct. \n",
    "    \n",
    "</div>"
   ]
  },
  {
   "cell_type": "code",
   "execution_count": 50,
   "metadata": {},
   "outputs": [],
   "source": [
    "ordersByUsersA = orders[orders['group'] == 'A'].groupby(\n",
    "    'visitorId', as_index=False).agg({'transactionId': pd.Series.nunique})\n",
    "ordersByUsersA.columns = ['visitorId', 'orders']\n",
    "\n",
    "ordersByUsersB = orders[orders['group'] == 'B'].groupby(\n",
    "    'visitorId', as_index=False).agg({'transactionId': pd.Series.nunique})\n",
    "ordersByUsersB.columns = ['visitorId', 'orders']\n",
    "\n",
    "sampleA = pd.concat([ordersByUsersA['orders'], pd.Series(0, index=np.arange(\n",
    "    visits[visits['group'] == 'A']['visits'].sum() - len(ordersByUsersA['orders'])), name='orders')], axis=0)\n",
    "\n",
    "sampleB = pd.concat([ordersByUsersB['orders'], pd.Series(0, index=np.arange(\n",
    "    visits[visits['group'] == 'B']['visits'].sum() - len(ordersByUsersB['orders'])), name='orders')], axis=0)"
   ]
  },
  {
   "cell_type": "code",
   "execution_count": 51,
   "metadata": {},
   "outputs": [
    {
     "name": "stdout",
     "output_type": "stream",
     "text": [
      "0.011\n",
      "0.160\n"
     ]
    }
   ],
   "source": [
    "#Now to perform the test and also calculate the relative conversion gain for group B compared with group A.\n",
    "print(\"{0:.3f}\".format(st.mannwhitneyu(sampleA, sampleB, alternative='two-sided')[1]))\n",
    "\n",
    "print(\"{0:.3f}\".format(sampleB.mean()/sampleA.mean()-1)) "
   ]
  },
  {
   "cell_type": "markdown",
   "metadata": {},
   "source": [
    "The p-value is smaller than 0.05. Therefore we reject the null hypothesis, and conclude that there is a difference in conversion rates between the two groups. The relative gain of group B is 16%."
   ]
  },
  {
   "cell_type": "markdown",
   "metadata": {},
   "source": []
  },
  {
   "cell_type": "markdown",
   "metadata": {},
   "source": [
    "5.2 Significance test of the difference in average order size using raw data\n",
    "Let's use the Mann Whitney U test to find out if the two groups have the same average order size. We'll also calculate group B's relative gain in average order size compared with A.\n",
    "\n",
    "The null hypothesis is the two groups have the same average order size, and the alternative hypothesis is that they have different average order size.\n",
    "\n",
    "We will set the significance level Alpha as 0.05."
   ]
  },
  {
   "cell_type": "code",
   "execution_count": 52,
   "metadata": {},
   "outputs": [
    {
     "name": "stdout",
     "output_type": "stream",
     "text": [
      "0.862\n",
      "0.278\n"
     ]
    }
   ],
   "source": [
    "revenueA = orders[orders['group'] == 'A']['revenue']\n",
    "revenueB = orders[orders['group'] == 'B']['revenue']\n",
    "print(\"{0:.3f}\".format(\n",
    "    st.mannwhitneyu(revenueA, revenueB, alternative='two-sided')[1]))\n",
    "print(\"{0:.3f}\".format(revenueB.mean() / revenueA.mean() - 1))"
   ]
  },
  {
   "cell_type": "markdown",
   "metadata": {},
   "source": [
    "P-value is larger than alpha 0.05. Therefore we can't reject the null hypothesis that the two groups have the same average order size. Despite that, it can be see that group B has a relative gain of 27.8% in average purchase size compared with A. However, as mentioned earlier, this could be due to the anomalies in the data. Next, to perform the same tests using filtered data."
   ]
  },
  {
   "cell_type": "markdown",
   "metadata": {},
   "source": [
    "<div class=\"alert alert-success\" style=\"border-radius: 15px; box-shadow: 4px 4px 4px; border: 1px solid \">\n",
    "<h2>  Reviewer's comment </h2>\n",
    "    \n",
    "Good.     \n",
    "</div>"
   ]
  },
  {
   "cell_type": "markdown",
   "metadata": {},
   "source": [
    "5.3 Significance test of the difference in conversion rates using filtered data\n",
    "\n",
    "Using results from previous sections on detecting anomalies in data, we decided that users who made orders higher than 1000 as anomaly users. Let's first find out who they are."
   ]
  },
  {
   "cell_type": "code",
   "execution_count": 53,
   "metadata": {},
   "outputs": [
    {
     "data": {
      "text/plain": [
       "425     1920142716\n",
       "743     4133034833\n",
       "744      888512513\n",
       "1099     148427295\n",
       "1103    1164614297\n",
       "1136    1307669133\n",
       "1196    2108080724\n",
       "Name: visitorId, dtype: int64"
      ]
     },
     "execution_count": 53,
     "metadata": {},
     "output_type": "execute_result"
    }
   ],
   "source": [
    "usersWithExpensiveOrders = orders[orders['revenue'] > 1000]['visitorId']\n",
    "usersWithExpensiveOrders"
   ]
  },
  {
   "cell_type": "markdown",
   "metadata": {},
   "source": [
    "<div class=\"alert alert-success\" style=\"border-radius: 15px; box-shadow: 4px 4px 4px; border: 1px solid \">\n",
    "<h2>  Reviewer's comment </h2>\n",
    "    \n",
    "Makes sense. \n",
    "    \n",
    "</div>"
   ]
  },
  {
   "cell_type": "code",
   "execution_count": 54,
   "metadata": {},
   "outputs": [],
   "source": [
    "#There are 7 of them. Now to filter these users out and perform the Mann Whitney U test\n",
    "#for the difference in conversion rate and average order size between the two groups.\n",
    "sampleA_filtered = pd.concat([ordersByUsersA[~ordersByUsersA['visitorId'].isin(usersWithExpensiveOrders)]['orders'], pd.Series(0, index=np.arange(\n",
    "    visits[visits['group'] == 'A']['visits'].sum() - len(ordersByUsersA['orders'])), name='orders')], axis=0)\n",
    "\n",
    "sampleB_filtered = pd.concat([ordersByUsersB[~ordersByUsersB['visitorId'].isin(usersWithExpensiveOrders)]['orders'], pd.Series(0, index=np.arange(\n",
    "    visits[visits['group'] == 'B']['visits'].sum() - len(ordersByUsersB['orders'])), name='orders')], axis=0)"
   ]
  },
  {
   "cell_type": "markdown",
   "metadata": {},
   "source": [
    "<div class=\"alert alert-success\" style=\"border-radius: 15px; box-shadow: 4px 4px 4px; border: 1px solid \">\n",
    "<h2>  Reviewer's comment </h2>\n",
    "    \n",
    "Correct.     \n",
    "</div>"
   ]
  },
  {
   "cell_type": "code",
   "execution_count": 55,
   "metadata": {},
   "outputs": [
    {
     "name": "stdout",
     "output_type": "stream",
     "text": [
      "0.010\n",
      "0.163\n"
     ]
    }
   ],
   "source": [
    "#now to perform the test on the two samples, print the pvalue, \n",
    "#and also calculate the relative gain in conversion rates for B group compared with A group.\n",
    "print(\"{0:.3f}\".format(\n",
    "    st.mannwhitneyu(sampleA_filtered,\n",
    "                    sampleB_filtered,\n",
    "                    alternative='two-sided')[1]))\n",
    "print(\"{0:.3f}\".format(sampleB_filtered.mean() / sampleA_filtered.mean() - 1))"
   ]
  },
  {
   "cell_type": "markdown",
   "metadata": {},
   "source": [
    "The p-value is still smaller than 0.05, so we can still reject the null hypothesis and conclude that there is a difference in the two groups' conversion rates.\n",
    "\n",
    "The relative gain in conversion rates for B group is 16.3%, 0.3% higher than the results from the raw data."
   ]
  },
  {
   "cell_type": "markdown",
   "metadata": {},
   "source": [
    "<div class=\"alert alert-success\" style=\"border-radius: 15px; box-shadow: 4px 4px 4px; border: 1px solid \">\n",
    "<h2>  Reviewer's comment </h2>\n",
    "    \n",
    "Good.     \n",
    "</div>"
   ]
  },
  {
   "cell_type": "markdown",
   "metadata": {},
   "source": [
    "5.4 Significance test of the difference in average order size using filtered data\n",
    "\n",
    "Now to use the filtered data to test if the average order size for the two groups are the same. The null and alternative hypothesis, as well as alpha remain the same as in previous test in section 5.2.\n",
    "\n",
    "We will also calculate the relative gain in average order size for B group compared with A group."
   ]
  },
  {
   "cell_type": "code",
   "execution_count": 56,
   "metadata": {},
   "outputs": [
    {
     "name": "stdout",
     "output_type": "stream",
     "text": [
      "0.927\n",
      "-0.034\n"
     ]
    }
   ],
   "source": [
    "revenueA = orders[(orders['group'] == 'A') & (\n",
    "    ~orders['visitorId'].isin(usersWithExpensiveOrders))]['revenue']\n",
    "revenueB = orders[(orders['group'] == 'B') & (\n",
    "    ~orders['visitorId'].isin(usersWithExpensiveOrders))]['revenue']\n",
    "print(\"{0:.3f}\".format(st.mannwhitneyu(revenueA, revenueB, alternative='two-sided')[1]))\n",
    "print(\"{0:.3f}\".format(revenueB.mean()/revenueA.mean()-1))"
   ]
  },
  {
   "cell_type": "markdown",
   "metadata": {},
   "source": [
    "It's interesting, after removing the anomalous users who made some extremely large orders, the relative change for B group in average order size fell from a 27.8% gain, to a 3.4% loss! The anomalous users must mostly come from the B group.\n",
    "\n",
    "The p-value of the test results is still higher than 0.05. So similarly, we can't reject the null hypothesis that the two groups have the same average order size."
   ]
  },
  {
   "cell_type": "markdown",
   "metadata": {},
   "source": [
    "Part 5 summary\n",
    "\n",
    "The statistical analysis was conducted using both raw and filtered datasets. Key findings:\n",
    "\n",
    "1. Conversion Rate Tests: Both raw and filtered data showed significant differences between groups, with Group B demonstrating approximately 16% higher conversion rates than Group A.\n",
    "\n",
    "2. Average Purchase Size Tests: No statistically significant difference was found between groups. While the raw data suggested Group B had a 27.8% higher average purchase size (due to extremely large orders), after removing these anomalies, Group B actually showed a 3.4% lower average purchase size compared to Group A."
   ]
  },
  {
   "cell_type": "markdown",
   "metadata": {},
   "source": [
    "<div class=\"alert alert-success\" style=\"border-radius: 15px; box-shadow: 4px 4px 4px; border: 1px solid \">\n",
    "<h2>  Reviewer's comment </h2>\n",
    "    \n",
    "Excellent!     \n",
    "</div>"
   ]
  },
  {
   "cell_type": "markdown",
   "metadata": {},
   "source": [
    "Final findings and conclusions\n",
    "Based on the analysis, we found:\n",
    "\n",
    "1. Both raw and filtered data confirm a statistically significant difference in conversion rates between groups.\n",
    "\n",
    "2. Average purchase size showed no statistically significant difference between groups. Raw data indicated a gain for Group B, while filtered data showed a slight loss.\n",
    "\n",
    "3. Group B demonstrated consistently better conversion rates than Group A, with results stabilizing around the mean.\n",
    "\n",
    "4. Average purchase size results remain inconclusive, showing fluctuations regardless of whether anomalies are included.\n",
    "\n",
    "Recommendations:\n",
    "\n",
    "We have two viable options:\n",
    "1. Conclude the test as successful based on improved conversion rates alone, despite inconclusive average purchase size results.\n",
    "2. Extend the test for another month, particularly if this is testing Hypothesis 2 (which has a low effort score of 3), to gather more conclusive data on average purchase size.\n",
    "\n",
    "The choice depends on company priorities:\n",
    "- If improved conversion rate alone justifies implementation, end the test now\n",
    "- If proving both conversion and purchase size improvements is crucial, continue testing, especially given the low effort required"
   ]
  },
  {
   "cell_type": "markdown",
   "metadata": {},
   "source": [
    "<div class=\"alert alert-success\" style=\"border-radius: 15px; box-shadow: 4px 4px 4px; border: 1px solid \">\n",
    "<h2>  Reviewer's comment </h2>\n",
    "    \n",
    "Excellent job!     \n",
    "</div>"
   ]
  }
 ],
 "metadata": {
  "ExecuteTimeLog": [
   {
    "duration": 2536,
    "start_time": "2025-02-23T07:36:47.358Z"
   },
   {
    "duration": 4,
    "start_time": "2025-02-23T07:36:51.046Z"
   },
   {
    "duration": 4,
    "start_time": "2025-02-23T07:36:56.307Z"
   },
   {
    "duration": 3,
    "start_time": "2025-02-23T07:37:06.534Z"
   },
   {
    "duration": 3,
    "start_time": "2025-02-23T07:37:11.637Z"
   },
   {
    "duration": 10,
    "start_time": "2025-02-23T07:37:46.847Z"
   },
   {
    "duration": 10,
    "start_time": "2025-02-23T07:39:42.526Z"
   },
   {
    "duration": 3,
    "start_time": "2025-02-23T07:40:02.328Z"
   },
   {
    "duration": 9,
    "start_time": "2025-02-23T07:40:10.984Z"
   },
   {
    "duration": 7,
    "start_time": "2025-02-23T07:40:30.048Z"
   },
   {
    "duration": 4,
    "start_time": "2025-02-23T07:41:39.131Z"
   },
   {
    "duration": 8,
    "start_time": "2025-02-23T07:41:46.804Z"
   },
   {
    "duration": 147,
    "start_time": "2025-02-23T07:43:53.058Z"
   },
   {
    "duration": 128,
    "start_time": "2025-02-23T07:44:34.864Z"
   },
   {
    "duration": 14,
    "start_time": "2025-02-23T12:37:41.619Z"
   },
   {
    "duration": 7,
    "start_time": "2025-02-23T12:37:52.957Z"
   },
   {
    "duration": 6,
    "start_time": "2025-02-23T12:38:05.136Z"
   },
   {
    "duration": 6,
    "start_time": "2025-02-23T12:38:16.550Z"
   },
   {
    "duration": 5,
    "start_time": "2025-02-23T12:38:28.826Z"
   },
   {
    "duration": 8,
    "start_time": "2025-02-23T12:38:37.032Z"
   },
   {
    "duration": 11,
    "start_time": "2025-02-23T12:39:33.990Z"
   },
   {
    "duration": 6,
    "start_time": "2025-02-23T12:39:42.314Z"
   },
   {
    "duration": 5,
    "start_time": "2025-02-23T12:39:53.839Z"
   },
   {
    "duration": 6,
    "start_time": "2025-02-23T12:40:03.726Z"
   },
   {
    "duration": 6,
    "start_time": "2025-02-23T12:40:13.703Z"
   },
   {
    "duration": 7,
    "start_time": "2025-02-23T12:40:26.224Z"
   },
   {
    "duration": 5,
    "start_time": "2025-02-23T12:46:58.907Z"
   },
   {
    "duration": 6,
    "start_time": "2025-02-23T12:48:06.673Z"
   },
   {
    "duration": 7,
    "start_time": "2025-02-23T13:55:47.723Z"
   },
   {
    "duration": 5,
    "start_time": "2025-02-23T13:56:40.240Z"
   },
   {
    "duration": 5,
    "start_time": "2025-02-23T13:58:19.555Z"
   },
   {
    "duration": 5,
    "start_time": "2025-02-23T13:58:28.181Z"
   },
   {
    "duration": 7,
    "start_time": "2025-02-23T14:02:41.316Z"
   },
   {
    "duration": 6,
    "start_time": "2025-02-23T14:02:50.143Z"
   },
   {
    "duration": 133,
    "start_time": "2025-02-23T14:03:36.115Z"
   },
   {
    "duration": 85,
    "start_time": "2025-02-23T14:03:45.614Z"
   },
   {
    "duration": 6,
    "start_time": "2025-02-23T14:04:58.688Z"
   },
   {
    "duration": 8,
    "start_time": "2025-02-23T14:05:12.674Z"
   },
   {
    "duration": 9,
    "start_time": "2025-02-23T14:05:34.191Z"
   },
   {
    "duration": 5,
    "start_time": "2025-02-23T14:07:13.320Z"
   },
   {
    "duration": 167,
    "start_time": "2025-02-23T14:07:24.274Z"
   },
   {
    "duration": 152,
    "start_time": "2025-02-23T14:08:51.732Z"
   },
   {
    "duration": 7,
    "start_time": "2025-02-23T14:10:00.397Z"
   },
   {
    "duration": 6,
    "start_time": "2025-02-23T14:10:16.804Z"
   },
   {
    "duration": 253,
    "start_time": "2025-02-23T14:10:24.936Z"
   },
   {
    "duration": 14,
    "start_time": "2025-02-23T14:15:53.832Z"
   },
   {
    "duration": 227,
    "start_time": "2025-02-23T14:16:02.291Z"
   },
   {
    "duration": 244,
    "start_time": "2025-02-23T14:17:11.704Z"
   },
   {
    "duration": 960,
    "start_time": "2025-02-23T14:18:51.901Z"
   },
   {
    "duration": 17,
    "start_time": "2025-02-23T14:21:02.533Z"
   },
   {
    "duration": 165,
    "start_time": "2025-02-23T14:22:27.805Z"
   },
   {
    "duration": 314,
    "start_time": "2025-02-23T14:23:27.470Z"
   },
   {
    "duration": 222,
    "start_time": "2025-02-23T14:23:48.056Z"
   },
   {
    "duration": 163,
    "start_time": "2025-02-23T14:24:46.527Z"
   },
   {
    "duration": 318,
    "start_time": "2025-02-23T14:25:46.511Z"
   },
   {
    "duration": 259,
    "start_time": "2025-02-23T14:27:25.327Z"
   },
   {
    "duration": 222,
    "start_time": "2025-02-23T14:28:03.163Z"
   },
   {
    "duration": 788,
    "start_time": "2025-02-23T14:31:54.452Z"
   },
   {
    "duration": 7,
    "start_time": "2025-02-23T14:31:55.242Z"
   },
   {
    "duration": 8,
    "start_time": "2025-02-23T14:31:55.251Z"
   },
   {
    "duration": 2,
    "start_time": "2025-02-23T14:31:55.261Z"
   },
   {
    "duration": 5,
    "start_time": "2025-02-23T14:31:55.265Z"
   },
   {
    "duration": 9,
    "start_time": "2025-02-23T14:31:55.271Z"
   },
   {
    "duration": 28,
    "start_time": "2025-02-23T14:31:55.281Z"
   },
   {
    "duration": 8,
    "start_time": "2025-02-23T14:31:55.311Z"
   },
   {
    "duration": 150,
    "start_time": "2025-02-23T14:31:55.320Z"
   },
   {
    "duration": 8,
    "start_time": "2025-02-23T14:31:55.473Z"
   },
   {
    "duration": 7,
    "start_time": "2025-02-23T14:31:55.483Z"
   },
   {
    "duration": 7,
    "start_time": "2025-02-23T14:31:55.505Z"
   },
   {
    "duration": 6,
    "start_time": "2025-02-23T14:31:55.513Z"
   },
   {
    "duration": 6,
    "start_time": "2025-02-23T14:31:55.521Z"
   },
   {
    "duration": 7,
    "start_time": "2025-02-23T14:31:55.528Z"
   },
   {
    "duration": 8,
    "start_time": "2025-02-23T14:31:55.537Z"
   },
   {
    "duration": 7,
    "start_time": "2025-02-23T14:31:55.547Z"
   },
   {
    "duration": 5,
    "start_time": "2025-02-23T14:31:55.556Z"
   },
   {
    "duration": 46,
    "start_time": "2025-02-23T14:31:55.563Z"
   },
   {
    "duration": 4,
    "start_time": "2025-02-23T14:31:55.611Z"
   },
   {
    "duration": 6,
    "start_time": "2025-02-23T14:31:55.618Z"
   },
   {
    "duration": 5,
    "start_time": "2025-02-23T14:31:55.625Z"
   },
   {
    "duration": 5,
    "start_time": "2025-02-23T14:31:55.631Z"
   },
   {
    "duration": 5,
    "start_time": "2025-02-23T14:31:55.638Z"
   },
   {
    "duration": 4,
    "start_time": "2025-02-23T14:31:55.645Z"
   },
   {
    "duration": 5,
    "start_time": "2025-02-23T14:31:55.650Z"
   },
   {
    "duration": 50,
    "start_time": "2025-02-23T14:31:55.656Z"
   },
   {
    "duration": 6,
    "start_time": "2025-02-23T14:31:55.710Z"
   },
   {
    "duration": 6,
    "start_time": "2025-02-23T14:31:55.718Z"
   },
   {
    "duration": 152,
    "start_time": "2025-02-23T14:31:55.727Z"
   },
   {
    "duration": 91,
    "start_time": "2025-02-23T14:31:55.882Z"
   },
   {
    "duration": 7,
    "start_time": "2025-02-23T14:31:55.975Z"
   },
   {
    "duration": 25,
    "start_time": "2025-02-23T14:31:55.983Z"
   },
   {
    "duration": 6,
    "start_time": "2025-02-23T14:31:56.009Z"
   },
   {
    "duration": 220,
    "start_time": "2025-02-23T14:31:56.016Z"
   },
   {
    "duration": 156,
    "start_time": "2025-02-23T14:31:56.238Z"
   },
   {
    "duration": 11,
    "start_time": "2025-02-23T14:31:56.397Z"
   },
   {
    "duration": 266,
    "start_time": "2025-02-23T14:31:56.410Z"
   },
   {
    "duration": 14,
    "start_time": "2025-02-23T14:31:56.678Z"
   },
   {
    "duration": 186,
    "start_time": "2025-02-23T14:31:56.704Z"
   },
   {
    "duration": 226,
    "start_time": "2025-02-23T14:31:56.892Z"
   },
   {
    "duration": 229,
    "start_time": "2025-02-23T14:31:57.119Z"
   },
   {
    "duration": 0,
    "start_time": "2025-02-23T14:31:57.350Z"
   },
   {
    "duration": 164,
    "start_time": "2025-02-23T14:32:49.757Z"
   },
   {
    "duration": 17,
    "start_time": "2025-02-23T14:32:54.875Z"
   },
   {
    "duration": 230,
    "start_time": "2025-02-23T14:33:10.942Z"
   },
   {
    "duration": 825,
    "start_time": "2025-02-23T14:33:23.373Z"
   },
   {
    "duration": 7,
    "start_time": "2025-02-23T14:33:24.204Z"
   },
   {
    "duration": 8,
    "start_time": "2025-02-23T14:33:24.213Z"
   },
   {
    "duration": 3,
    "start_time": "2025-02-23T14:33:24.222Z"
   },
   {
    "duration": 3,
    "start_time": "2025-02-23T14:33:24.228Z"
   },
   {
    "duration": 6,
    "start_time": "2025-02-23T14:33:24.233Z"
   },
   {
    "duration": 4,
    "start_time": "2025-02-23T14:33:24.241Z"
   },
   {
    "duration": 7,
    "start_time": "2025-02-23T14:33:24.246Z"
   },
   {
    "duration": 173,
    "start_time": "2025-02-23T14:33:24.254Z"
   },
   {
    "duration": 7,
    "start_time": "2025-02-23T14:33:24.429Z"
   },
   {
    "duration": 8,
    "start_time": "2025-02-23T14:33:24.438Z"
   },
   {
    "duration": 5,
    "start_time": "2025-02-23T14:33:24.447Z"
   },
   {
    "duration": 5,
    "start_time": "2025-02-23T14:33:24.454Z"
   },
   {
    "duration": 5,
    "start_time": "2025-02-23T14:33:24.463Z"
   },
   {
    "duration": 39,
    "start_time": "2025-02-23T14:33:24.469Z"
   },
   {
    "duration": 5,
    "start_time": "2025-02-23T14:33:24.510Z"
   },
   {
    "duration": 6,
    "start_time": "2025-02-23T14:33:24.517Z"
   },
   {
    "duration": 5,
    "start_time": "2025-02-23T14:33:24.524Z"
   },
   {
    "duration": 6,
    "start_time": "2025-02-23T14:33:24.530Z"
   },
   {
    "duration": 6,
    "start_time": "2025-02-23T14:33:24.537Z"
   },
   {
    "duration": 6,
    "start_time": "2025-02-23T14:33:24.544Z"
   },
   {
    "duration": 5,
    "start_time": "2025-02-23T14:33:24.551Z"
   },
   {
    "duration": 48,
    "start_time": "2025-02-23T14:33:24.557Z"
   },
   {
    "duration": 7,
    "start_time": "2025-02-23T14:33:24.607Z"
   },
   {
    "duration": 8,
    "start_time": "2025-02-23T14:33:24.615Z"
   },
   {
    "duration": 5,
    "start_time": "2025-02-23T14:33:24.625Z"
   },
   {
    "duration": 4,
    "start_time": "2025-02-23T14:33:24.632Z"
   },
   {
    "duration": 6,
    "start_time": "2025-02-23T14:33:24.638Z"
   },
   {
    "duration": 6,
    "start_time": "2025-02-23T14:33:24.646Z"
   },
   {
    "duration": 173,
    "start_time": "2025-02-23T14:33:24.654Z"
   },
   {
    "duration": 93,
    "start_time": "2025-02-23T14:33:24.828Z"
   },
   {
    "duration": 5,
    "start_time": "2025-02-23T14:33:24.923Z"
   },
   {
    "duration": 11,
    "start_time": "2025-02-23T14:33:24.929Z"
   },
   {
    "duration": 5,
    "start_time": "2025-02-23T14:33:24.941Z"
   },
   {
    "duration": 219,
    "start_time": "2025-02-23T14:33:24.948Z"
   },
   {
    "duration": 163,
    "start_time": "2025-02-23T14:33:25.168Z"
   },
   {
    "duration": 6,
    "start_time": "2025-02-23T14:33:25.332Z"
   },
   {
    "duration": 245,
    "start_time": "2025-02-23T14:33:25.339Z"
   },
   {
    "duration": 22,
    "start_time": "2025-02-23T14:33:25.586Z"
   },
   {
    "duration": 200,
    "start_time": "2025-02-23T14:33:25.609Z"
   },
   {
    "duration": 258,
    "start_time": "2025-02-23T14:33:25.813Z"
   },
   {
    "duration": 175,
    "start_time": "2025-02-23T14:33:26.072Z"
   },
   {
    "duration": 235,
    "start_time": "2025-02-23T14:33:26.249Z"
   },
   {
    "duration": 160,
    "start_time": "2025-02-24T09:18:52.536Z"
   },
   {
    "duration": 2486,
    "start_time": "2025-02-24T09:19:26.583Z"
   },
   {
    "duration": 11,
    "start_time": "2025-02-24T09:19:29.072Z"
   },
   {
    "duration": 10,
    "start_time": "2025-02-24T09:19:29.085Z"
   },
   {
    "duration": 3,
    "start_time": "2025-02-24T09:19:29.096Z"
   },
   {
    "duration": 6,
    "start_time": "2025-02-24T09:19:29.100Z"
   },
   {
    "duration": 7,
    "start_time": "2025-02-24T09:19:29.107Z"
   },
   {
    "duration": 3,
    "start_time": "2025-02-24T09:19:29.117Z"
   },
   {
    "duration": 7,
    "start_time": "2025-02-24T09:19:29.142Z"
   },
   {
    "duration": 153,
    "start_time": "2025-02-24T09:19:29.151Z"
   },
   {
    "duration": 16,
    "start_time": "2025-02-24T09:19:29.308Z"
   },
   {
    "duration": 8,
    "start_time": "2025-02-24T09:19:29.326Z"
   },
   {
    "duration": 11,
    "start_time": "2025-02-24T09:19:29.335Z"
   },
   {
    "duration": 5,
    "start_time": "2025-02-24T09:19:29.347Z"
   },
   {
    "duration": 7,
    "start_time": "2025-02-24T09:19:29.353Z"
   },
   {
    "duration": 6,
    "start_time": "2025-02-24T09:19:29.361Z"
   },
   {
    "duration": 9,
    "start_time": "2025-02-24T09:19:29.369Z"
   },
   {
    "duration": 6,
    "start_time": "2025-02-24T09:19:29.381Z"
   },
   {
    "duration": 5,
    "start_time": "2025-02-24T09:19:29.388Z"
   },
   {
    "duration": 5,
    "start_time": "2025-02-24T09:19:29.395Z"
   },
   {
    "duration": 45,
    "start_time": "2025-02-24T09:19:29.401Z"
   },
   {
    "duration": 6,
    "start_time": "2025-02-24T09:19:29.447Z"
   },
   {
    "duration": 6,
    "start_time": "2025-02-24T09:19:29.454Z"
   },
   {
    "duration": 6,
    "start_time": "2025-02-24T09:19:29.462Z"
   },
   {
    "duration": 6,
    "start_time": "2025-02-24T09:19:29.470Z"
   },
   {
    "duration": 4,
    "start_time": "2025-02-24T09:19:29.478Z"
   },
   {
    "duration": 5,
    "start_time": "2025-02-24T09:19:29.483Z"
   },
   {
    "duration": 5,
    "start_time": "2025-02-24T09:19:29.489Z"
   },
   {
    "duration": 6,
    "start_time": "2025-02-24T09:19:29.544Z"
   },
   {
    "duration": 5,
    "start_time": "2025-02-24T09:19:29.552Z"
   },
   {
    "duration": 157,
    "start_time": "2025-02-24T09:19:29.559Z"
   },
   {
    "duration": 91,
    "start_time": "2025-02-24T09:19:29.717Z"
   },
   {
    "duration": 6,
    "start_time": "2025-02-24T09:19:29.809Z"
   },
   {
    "duration": 8,
    "start_time": "2025-02-24T09:19:29.816Z"
   },
   {
    "duration": 20,
    "start_time": "2025-02-24T09:19:29.826Z"
   },
   {
    "duration": 170,
    "start_time": "2025-02-24T09:19:29.848Z"
   },
   {
    "duration": 157,
    "start_time": "2025-02-24T09:19:30.021Z"
   },
   {
    "duration": 5,
    "start_time": "2025-02-24T09:19:30.180Z"
   },
   {
    "duration": 343,
    "start_time": "2025-02-24T09:19:30.187Z"
   },
   {
    "duration": 23,
    "start_time": "2025-02-24T09:19:30.532Z"
   },
   {
    "duration": 182,
    "start_time": "2025-02-24T09:19:30.557Z"
   },
   {
    "duration": 249,
    "start_time": "2025-02-24T09:19:30.741Z"
   },
   {
    "duration": 173,
    "start_time": "2025-02-24T09:19:30.992Z"
   },
   {
    "duration": 261,
    "start_time": "2025-02-24T09:19:31.167Z"
   },
   {
    "duration": 185,
    "start_time": "2025-02-24T09:19:31.430Z"
   },
   {
    "duration": 8,
    "start_time": "2025-02-24T09:20:08.410Z"
   },
   {
    "duration": 143,
    "start_time": "2025-02-24T09:21:13.365Z"
   },
   {
    "duration": 5,
    "start_time": "2025-02-24T09:22:26.930Z"
   },
   {
    "duration": 339,
    "start_time": "2025-02-24T09:23:34.564Z"
   },
   {
    "duration": 5,
    "start_time": "2025-02-24T09:26:07.976Z"
   },
   {
    "duration": 97,
    "start_time": "2025-02-24T09:33:26.515Z"
   },
   {
    "duration": 15,
    "start_time": "2025-02-24T09:35:02.484Z"
   },
   {
    "duration": 8,
    "start_time": "2025-02-24T09:36:14.094Z"
   },
   {
    "duration": 5,
    "start_time": "2025-02-24T09:38:51.739Z"
   },
   {
    "duration": 3,
    "start_time": "2025-02-24T09:39:57.706Z"
   },
   {
    "duration": 7,
    "start_time": "2025-02-24T09:40:34.433Z"
   },
   {
    "duration": 17,
    "start_time": "2025-02-24T09:41:20.362Z"
   },
   {
    "duration": 8,
    "start_time": "2025-02-24T09:43:35.041Z"
   },
   {
    "duration": 800,
    "start_time": "2025-02-24T09:47:35.627Z"
   },
   {
    "duration": 14,
    "start_time": "2025-02-24T09:47:36.429Z"
   },
   {
    "duration": 7,
    "start_time": "2025-02-24T09:47:36.445Z"
   },
   {
    "duration": 3,
    "start_time": "2025-02-24T09:47:36.455Z"
   },
   {
    "duration": 4,
    "start_time": "2025-02-24T09:47:36.459Z"
   },
   {
    "duration": 7,
    "start_time": "2025-02-24T09:47:36.464Z"
   },
   {
    "duration": 4,
    "start_time": "2025-02-24T09:47:36.473Z"
   },
   {
    "duration": 8,
    "start_time": "2025-02-24T09:47:36.478Z"
   },
   {
    "duration": 175,
    "start_time": "2025-02-24T09:47:36.487Z"
   },
   {
    "duration": 7,
    "start_time": "2025-02-24T09:47:36.666Z"
   },
   {
    "duration": 7,
    "start_time": "2025-02-24T09:47:36.675Z"
   },
   {
    "duration": 5,
    "start_time": "2025-02-24T09:47:36.684Z"
   },
   {
    "duration": 4,
    "start_time": "2025-02-24T09:47:36.691Z"
   },
   {
    "duration": 5,
    "start_time": "2025-02-24T09:47:36.696Z"
   },
   {
    "duration": 6,
    "start_time": "2025-02-24T09:47:36.703Z"
   },
   {
    "duration": 6,
    "start_time": "2025-02-24T09:47:36.743Z"
   },
   {
    "duration": 6,
    "start_time": "2025-02-24T09:47:36.750Z"
   },
   {
    "duration": 5,
    "start_time": "2025-02-24T09:47:36.757Z"
   },
   {
    "duration": 5,
    "start_time": "2025-02-24T09:47:36.764Z"
   },
   {
    "duration": 5,
    "start_time": "2025-02-24T09:47:36.770Z"
   },
   {
    "duration": 5,
    "start_time": "2025-02-24T09:47:36.777Z"
   },
   {
    "duration": 4,
    "start_time": "2025-02-24T09:47:36.784Z"
   },
   {
    "duration": 5,
    "start_time": "2025-02-24T09:47:36.789Z"
   },
   {
    "duration": 49,
    "start_time": "2025-02-24T09:47:36.796Z"
   },
   {
    "duration": 4,
    "start_time": "2025-02-24T09:47:36.846Z"
   },
   {
    "duration": 4,
    "start_time": "2025-02-24T09:47:36.852Z"
   },
   {
    "duration": 5,
    "start_time": "2025-02-24T09:47:36.858Z"
   },
   {
    "duration": 7,
    "start_time": "2025-02-24T09:47:36.868Z"
   },
   {
    "duration": 6,
    "start_time": "2025-02-24T09:47:36.876Z"
   },
   {
    "duration": 173,
    "start_time": "2025-02-24T09:47:36.883Z"
   },
   {
    "duration": 94,
    "start_time": "2025-02-24T09:47:37.057Z"
   },
   {
    "duration": 6,
    "start_time": "2025-02-24T09:47:37.153Z"
   },
   {
    "duration": 9,
    "start_time": "2025-02-24T09:47:37.160Z"
   },
   {
    "duration": 5,
    "start_time": "2025-02-24T09:47:37.171Z"
   },
   {
    "duration": 228,
    "start_time": "2025-02-24T09:47:37.177Z"
   },
   {
    "duration": 155,
    "start_time": "2025-02-24T09:47:37.408Z"
   },
   {
    "duration": 6,
    "start_time": "2025-02-24T09:47:37.565Z"
   },
   {
    "duration": 256,
    "start_time": "2025-02-24T09:47:37.572Z"
   },
   {
    "duration": 22,
    "start_time": "2025-02-24T09:47:37.830Z"
   },
   {
    "duration": 181,
    "start_time": "2025-02-24T09:47:37.854Z"
   },
   {
    "duration": 235,
    "start_time": "2025-02-24T09:47:38.037Z"
   },
   {
    "duration": 168,
    "start_time": "2025-02-24T09:47:38.275Z"
   },
   {
    "duration": 257,
    "start_time": "2025-02-24T09:47:38.445Z"
   },
   {
    "duration": 195,
    "start_time": "2025-02-24T09:47:38.703Z"
   },
   {
    "duration": 8,
    "start_time": "2025-02-24T09:47:38.900Z"
   },
   {
    "duration": 158,
    "start_time": "2025-02-24T09:47:38.909Z"
   },
   {
    "duration": 6,
    "start_time": "2025-02-24T09:47:39.069Z"
   },
   {
    "duration": 368,
    "start_time": "2025-02-24T09:47:39.076Z"
   },
   {
    "duration": 4,
    "start_time": "2025-02-24T09:47:39.446Z"
   },
   {
    "duration": 128,
    "start_time": "2025-02-24T09:47:39.452Z"
   },
   {
    "duration": 15,
    "start_time": "2025-02-24T09:47:39.582Z"
   },
   {
    "duration": 7,
    "start_time": "2025-02-24T09:47:39.598Z"
   },
   {
    "duration": 4,
    "start_time": "2025-02-24T09:47:39.607Z"
   },
   {
    "duration": 31,
    "start_time": "2025-02-24T09:47:39.613Z"
   },
   {
    "duration": 17,
    "start_time": "2025-02-24T09:47:39.645Z"
   },
   {
    "duration": 7,
    "start_time": "2025-02-24T09:47:39.664Z"
   },
   {
    "duration": 2584,
    "start_time": "2025-02-25T08:27:46.676Z"
   },
   {
    "duration": 10,
    "start_time": "2025-02-25T08:27:49.262Z"
   },
   {
    "duration": 9,
    "start_time": "2025-02-25T08:27:49.273Z"
   },
   {
    "duration": 2,
    "start_time": "2025-02-25T08:27:49.284Z"
   },
   {
    "duration": 21,
    "start_time": "2025-02-25T08:27:49.288Z"
   },
   {
    "duration": 7,
    "start_time": "2025-02-25T08:27:49.310Z"
   },
   {
    "duration": 4,
    "start_time": "2025-02-25T08:27:49.319Z"
   },
   {
    "duration": 7,
    "start_time": "2025-02-25T08:27:49.325Z"
   },
   {
    "duration": 164,
    "start_time": "2025-02-25T08:27:49.333Z"
   },
   {
    "duration": 12,
    "start_time": "2025-02-25T08:27:49.501Z"
   },
   {
    "duration": 8,
    "start_time": "2025-02-25T08:27:49.515Z"
   },
   {
    "duration": 6,
    "start_time": "2025-02-25T08:27:49.525Z"
   },
   {
    "duration": 6,
    "start_time": "2025-02-25T08:27:49.532Z"
   },
   {
    "duration": 5,
    "start_time": "2025-02-25T08:27:49.540Z"
   },
   {
    "duration": 6,
    "start_time": "2025-02-25T08:27:49.546Z"
   },
   {
    "duration": 9,
    "start_time": "2025-02-25T08:27:49.554Z"
   },
   {
    "duration": 44,
    "start_time": "2025-02-25T08:27:49.564Z"
   },
   {
    "duration": 6,
    "start_time": "2025-02-25T08:27:49.610Z"
   },
   {
    "duration": 6,
    "start_time": "2025-02-25T08:27:49.617Z"
   },
   {
    "duration": 6,
    "start_time": "2025-02-25T08:27:49.625Z"
   },
   {
    "duration": 6,
    "start_time": "2025-02-25T08:27:49.633Z"
   },
   {
    "duration": 5,
    "start_time": "2025-02-25T08:27:49.641Z"
   },
   {
    "duration": 5,
    "start_time": "2025-02-25T08:27:49.648Z"
   },
   {
    "duration": 6,
    "start_time": "2025-02-25T08:27:49.654Z"
   },
   {
    "duration": 49,
    "start_time": "2025-02-25T08:27:49.661Z"
   },
   {
    "duration": 4,
    "start_time": "2025-02-25T08:27:49.712Z"
   },
   {
    "duration": 5,
    "start_time": "2025-02-25T08:27:49.719Z"
   },
   {
    "duration": 7,
    "start_time": "2025-02-25T08:27:49.728Z"
   },
   {
    "duration": 6,
    "start_time": "2025-02-25T08:27:49.737Z"
   },
   {
    "duration": 170,
    "start_time": "2025-02-25T08:27:49.745Z"
   },
   {
    "duration": 100,
    "start_time": "2025-02-25T08:27:49.917Z"
   },
   {
    "duration": 8,
    "start_time": "2025-02-25T08:27:50.021Z"
   },
   {
    "duration": 9,
    "start_time": "2025-02-25T08:27:50.031Z"
   },
   {
    "duration": 6,
    "start_time": "2025-02-25T08:27:50.041Z"
   },
   {
    "duration": 185,
    "start_time": "2025-02-25T08:27:50.048Z"
   },
   {
    "duration": 157,
    "start_time": "2025-02-25T08:27:50.235Z"
   },
   {
    "duration": 13,
    "start_time": "2025-02-25T08:27:50.394Z"
   },
   {
    "duration": 281,
    "start_time": "2025-02-25T08:27:50.408Z"
   },
   {
    "duration": 25,
    "start_time": "2025-02-25T08:27:50.691Z"
   },
   {
    "duration": 177,
    "start_time": "2025-02-25T08:27:50.717Z"
   },
   {
    "duration": 238,
    "start_time": "2025-02-25T08:27:50.896Z"
   },
   {
    "duration": 169,
    "start_time": "2025-02-25T08:27:51.136Z"
   },
   {
    "duration": 269,
    "start_time": "2025-02-25T08:27:51.307Z"
   },
   {
    "duration": 178,
    "start_time": "2025-02-25T08:27:51.578Z"
   },
   {
    "duration": 8,
    "start_time": "2025-02-25T08:27:51.757Z"
   },
   {
    "duration": 214,
    "start_time": "2025-02-25T08:27:51.767Z"
   },
   {
    "duration": 4,
    "start_time": "2025-02-25T08:27:51.983Z"
   },
   {
    "duration": 381,
    "start_time": "2025-02-25T08:27:51.989Z"
   },
   {
    "duration": 5,
    "start_time": "2025-02-25T08:27:52.372Z"
   },
   {
    "duration": 126,
    "start_time": "2025-02-25T08:27:52.379Z"
   },
   {
    "duration": 16,
    "start_time": "2025-02-25T08:27:52.507Z"
   },
   {
    "duration": 7,
    "start_time": "2025-02-25T08:27:52.524Z"
   },
   {
    "duration": 5,
    "start_time": "2025-02-25T08:27:52.532Z"
   },
   {
    "duration": 7,
    "start_time": "2025-02-25T08:27:52.539Z"
   },
   {
    "duration": 16,
    "start_time": "2025-02-25T08:27:52.548Z"
   },
   {
    "duration": 40,
    "start_time": "2025-02-25T08:27:52.566Z"
   },
   {
    "duration": 2801,
    "start_time": "2025-02-25T12:21:43.670Z"
   },
   {
    "duration": 8,
    "start_time": "2025-02-25T12:21:46.473Z"
   },
   {
    "duration": 9,
    "start_time": "2025-02-25T12:21:46.482Z"
   },
   {
    "duration": 2,
    "start_time": "2025-02-25T12:21:46.493Z"
   },
   {
    "duration": 4,
    "start_time": "2025-02-25T12:21:46.498Z"
   },
   {
    "duration": 24,
    "start_time": "2025-02-25T12:21:46.503Z"
   },
   {
    "duration": 4,
    "start_time": "2025-02-25T12:21:46.528Z"
   },
   {
    "duration": 6,
    "start_time": "2025-02-25T12:21:46.535Z"
   },
   {
    "duration": 177,
    "start_time": "2025-02-25T12:21:46.543Z"
   },
   {
    "duration": 15,
    "start_time": "2025-02-25T12:21:46.723Z"
   },
   {
    "duration": 9,
    "start_time": "2025-02-25T12:21:46.740Z"
   },
   {
    "duration": 6,
    "start_time": "2025-02-25T12:21:46.750Z"
   },
   {
    "duration": 5,
    "start_time": "2025-02-25T12:21:46.757Z"
   },
   {
    "duration": 5,
    "start_time": "2025-02-25T12:21:46.766Z"
   },
   {
    "duration": 6,
    "start_time": "2025-02-25T12:21:46.772Z"
   },
   {
    "duration": 6,
    "start_time": "2025-02-25T12:21:46.780Z"
   },
   {
    "duration": 43,
    "start_time": "2025-02-25T12:21:46.788Z"
   },
   {
    "duration": 5,
    "start_time": "2025-02-25T12:21:46.832Z"
   },
   {
    "duration": 5,
    "start_time": "2025-02-25T12:21:46.838Z"
   },
   {
    "duration": 4,
    "start_time": "2025-02-25T12:21:46.845Z"
   },
   {
    "duration": 5,
    "start_time": "2025-02-25T12:21:46.851Z"
   },
   {
    "duration": 5,
    "start_time": "2025-02-25T12:21:46.858Z"
   },
   {
    "duration": 6,
    "start_time": "2025-02-25T12:21:46.865Z"
   },
   {
    "duration": 54,
    "start_time": "2025-02-25T12:21:46.873Z"
   },
   {
    "duration": 6,
    "start_time": "2025-02-25T12:21:46.929Z"
   },
   {
    "duration": 5,
    "start_time": "2025-02-25T12:21:46.937Z"
   },
   {
    "duration": 4,
    "start_time": "2025-02-25T12:21:46.944Z"
   },
   {
    "duration": 7,
    "start_time": "2025-02-25T12:21:46.950Z"
   },
   {
    "duration": 6,
    "start_time": "2025-02-25T12:21:46.958Z"
   },
   {
    "duration": 174,
    "start_time": "2025-02-25T12:21:46.966Z"
   },
   {
    "duration": 135,
    "start_time": "2025-02-25T12:21:47.142Z"
   },
   {
    "duration": 5,
    "start_time": "2025-02-25T12:21:47.280Z"
   },
   {
    "duration": 10,
    "start_time": "2025-02-25T12:21:47.289Z"
   },
   {
    "duration": 676,
    "start_time": "2025-02-25T12:21:47.300Z"
   }
  ],
  "kernelspec": {
   "display_name": "Python 3 (ipykernel)",
   "language": "python",
   "name": "python3"
  },
  "language_info": {
   "codemirror_mode": {
    "name": "ipython",
    "version": 3
   },
   "file_extension": ".py",
   "mimetype": "text/x-python",
   "name": "python",
   "nbconvert_exporter": "python",
   "pygments_lexer": "ipython3",
   "version": "3.9.19"
  },
  "toc": {
   "base_numbering": 1,
   "nav_menu": {},
   "number_sections": true,
   "sideBar": true,
   "skip_h1_title": true,
   "title_cell": "Table of Contents",
   "title_sidebar": "Contents",
   "toc_cell": false,
   "toc_position": {},
   "toc_section_display": true,
   "toc_window_display": false
  }
 },
 "nbformat": 4,
 "nbformat_minor": 2
}
